{
 "cells": [
  {
   "cell_type": "code",
   "execution_count": null,
   "metadata": {},
   "outputs": [],
   "source": [
    "import pandas as pd\n",
    "import numpy as np\n",
    "import scanpy as sc\n",
    "import matplotlib.pyplot as plt\n",
    "from maayanlab_bioinformatics.normalization import zscore_normalize, log2_normalize\n",
    "from scipy.stats import zscore\n",
    "import qnorm"
   ]
  },
  {
   "cell_type": "code",
   "execution_count": null,
   "metadata": {},
   "outputs": [],
   "source": [
    "def make_umap(rna_df, n_neighbors=15, min_dist=0.01, resolution=1):   \n",
    "    adata = sc.AnnData(log2_normalize(qnorm.quantile_normalize(rna_df)).T.values, dtype=\"float\")\n",
    "    adata.var['gene_names'] = rna_df.index.values\n",
    "    adata.obs['samples'] = rna_df.columns.values\n",
    "    # Sort genes by variance\n",
    "    adata.var['var_rank'] = (-np.var(adata.X, axis=0, dtype=\"float\")).argsort()\n",
    "    adata = adata[:, adata.var.var_rank < 5000]\n",
    "\n",
    "    # UMAP\n",
    "    sc.pp.pca(adata)\n",
    "    sc.pp.neighbors(adata, n_neighbors=n_neighbors)  # create neighborhood graph\n",
    "    sc.tl.umap(adata, min_dist=min_dist, alpha=0.1)  # embed umap based on neighborhood graph\n",
    "    sc.tl.leiden(adata, resolution=resolution)  # clustering\n",
    "    clusters = adata.obs['leiden'].unique()\n",
    "    cmap = plt.cm.get_cmap('tab20b', len(clusters))\n",
    "    for i, cluster in enumerate(sorted(clusters)):\n",
    "        mask = adata.obs['leiden'] == cluster\n",
    "        ax = plt.scatter(x=adata.obsm['X_umap'][mask, 0], y=adata.obsm['X_umap'][mask, 1], \n",
    "                    color=cmap(i), label=f'Cluster {cluster}', s=10)\n",
    "    plt.legend(title='Leiden clusters', bbox_to_anchor=(1.05, 1), loc='best')\n",
    "    ax.axes.set_xticks([])\n",
    "    ax.axes.set_yticks([])\n",
    "    plt.xlabel('UMAP-1')\n",
    "    plt.ylabel('UMAP-2')"
   ]
  },
  {
   "cell_type": "code",
   "execution_count": null,
   "metadata": {},
   "outputs": [],
   "source": [
    "ct = 'BR'\n",
    "\n",
    "rna_df = pd.read_csv(f'out/{ct}_tumor_counts.tsv', index_col=0, sep='\\t')\n",
    "make_umap(rna_df, n_neighbors=10, min_dist=0.01, resolution=.8)"
   ]
  },
  {
   "cell_type": "code",
   "execution_count": null,
   "metadata": {},
   "outputs": [],
   "source": [
    "ct = 'CCRCC'\n",
    "\n",
    "rna_df = pd.read_csv(f'out/{ct}_tumor_counts.tsv', index_col=0, sep='\\t')\n",
    "make_umap(rna_df, n_neighbors=5, min_dist=0.01, resolution=.5)"
   ]
  },
  {
   "cell_type": "code",
   "execution_count": null,
   "metadata": {},
   "outputs": [],
   "source": [
    "ct = 'CO'\n",
    "\n",
    "rna_df = pd.read_csv(f'out/{ct}_tumor_counts.tsv', index_col=0, sep='\\t')\n",
    "make_umap(rna_df, n_neighbors=3, min_dist=0.01, resolution=.6)"
   ]
  },
  {
   "cell_type": "code",
   "execution_count": null,
   "metadata": {},
   "outputs": [],
   "source": [
    "ct = 'GBM'\n",
    "\n",
    "rna_df = pd.read_csv(f'out/{ct}_tumor_counts.tsv', index_col=0, sep='\\t')\n",
    "make_umap(rna_df, n_neighbors=3, min_dist=0.01, resolution=.7)"
   ]
  },
  {
   "cell_type": "code",
   "execution_count": null,
   "metadata": {},
   "outputs": [],
   "source": [
    "ct = 'HNSCC'\n",
    "\n",
    "rna_df = pd.read_csv(f'out/{ct}_tumor_counts.tsv', index_col=0, sep='\\t')\n",
    "make_umap(rna_df, n_neighbors=3, min_dist=0.01, resolution=.5)"
   ]
  },
  {
   "cell_type": "code",
   "execution_count": null,
   "metadata": {},
   "outputs": [],
   "source": [
    "ct = 'LSCC'\n",
    "\n",
    "rna_df = pd.read_csv(f'out/{ct}_tumor_counts.tsv', index_col=0, sep='\\t')\n",
    "make_umap(rna_df, n_neighbors=3, min_dist=0.01, resolution=.5)"
   ]
  },
  {
   "cell_type": "code",
   "execution_count": null,
   "metadata": {},
   "outputs": [],
   "source": [
    "ct = 'LUAD'\n",
    "\n",
    "rna_df = pd.read_csv(f'out/{ct}_tumor_counts.tsv', index_col=0, sep='\\t')\n",
    "make_umap(rna_df, n_neighbors=3, min_dist=0.01, resolution=.5)"
   ]
  },
  {
   "cell_type": "code",
   "execution_count": null,
   "metadata": {},
   "outputs": [],
   "source": [
    "ct = 'OV'\n",
    "\n",
    "rna_df = pd.read_csv(f'out/{ct}_tumor_counts.tsv', index_col=0, sep='\\t')\n",
    "make_umap(rna_df, n_neighbors=3, min_dist=0.01, resolution=.8)"
   ]
  },
  {
   "cell_type": "code",
   "execution_count": null,
   "metadata": {},
   "outputs": [],
   "source": [
    "ct = 'PDAC'\n",
    "\n",
    "rna_df = pd.read_csv(f'out/{ct}_tumor_counts.tsv', index_col=0, sep='\\t')\n",
    "make_umap(rna_df, n_neighbors=3, min_dist=0.01, resolution=.5)"
   ]
  },
  {
   "cell_type": "code",
   "execution_count": null,
   "metadata": {},
   "outputs": [],
   "source": [
    "ct = 'UCEC'\n",
    "\n",
    "rna_df = pd.read_csv(f'out/{ct}_tumor_counts.tsv', index_col=0, sep='\\t')\n",
    "make_umap(rna_df, n_neighbors=3, min_dist=0.01, resolution=.5)"
   ]
  },
  {
   "cell_type": "code",
   "execution_count": null,
   "metadata": {},
   "outputs": [],
   "source": []
  }
 ],
 "metadata": {
  "kernelspec": {
   "display_name": "venv",
   "language": "python",
   "name": "python3"
  },
  "language_info": {
   "codemirror_mode": {
    "name": "ipython",
    "version": 3
   },
   "file_extension": ".py",
   "mimetype": "text/x-python",
   "name": "python",
   "nbconvert_exporter": "python",
   "pygments_lexer": "ipython3",
   "version": "3.10.13"
  }
 },
 "nbformat": 4,
 "nbformat_minor": 2
}
