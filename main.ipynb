{
 "cells": [
  {
   "cell_type": "code",
   "execution_count": null,
   "metadata": {},
   "outputs": [],
   "source": [
    "#%%appyter init\n",
    "from appyter import magic\n",
    "magic.init(lambda _=globals: _())"
   ]
  },
  {
   "cell_type": "code",
   "execution_count": null,
   "metadata": {},
   "outputs": [],
   "source": [
    "%%appyter hide_code\n",
    "\n",
    "{% do SectionField(\n",
    "    name='primary',\n",
    "    title='Data upload',\n",
    "    img='upload.png'\n",
    ") %}\n",
    "\n",
    "\n",
    "{% set rna_file = FileField(\n",
    "    name='rna_expr',\n",
    "    label='RNA-seq tumor expression',\n",
    "    description='''\n",
    "    File should be a tsv/csv of the form:\n",
    "\n",
    "        Patient 1 Tumor    Patient 2 Tumor       ...\n",
    "    -------------------------------------------------\n",
    "    Gene 1    0                      200                     ...\n",
    "    -------------------------------------------------\n",
    "    Gene 2    5                      180                     ...\n",
    "    -------------------------------------------------\n",
    "      ...           ...                      ...                       ...\n",
    "    ''',\n",
    "    default='CPTAC3_HNSCC_tumor_counts.tsv',\n",
    "    required=False,\n",
    "    examples={\n",
    "        'CPTAC3_HNSCC_tumor_counts.tsv': 'https://minio.dev.maayanlab.cloud/x2k-tr/CPTAC3_HNSCC_tumor_counts.tsv',\n",
    "    },\n",
    "    section='primary',\n",
    ") %}\n",
    "\n",
    "\n",
    "{% set prot_file = FileField(\n",
    "    name='prot_expr',\n",
    "    label='Protein tumor expression',\n",
    "    description='''\n",
    "    File should be a tsv/csv of the form:\n",
    "\n",
    "        Patient 1 Tumor    Patient 2 Tumor        ...\n",
    "    -------------------------------------------------\n",
    "    Gene/Protein 1    0                      200         ...\n",
    "    -------------------------------------------------\n",
    "    Gene/Protein 2    5                      180         ...\n",
    "    -------------------------------------------------\n",
    "            ...                 ...                       ...           ...\n",
    "    ''',\n",
    "    default='HNSCC_proteomics_tumor.tsv',\n",
    "    required=False,\n",
    "    examples={\n",
    "        'HNSCC_proteomics_tumor.tsv': 'https://minio.dev.maayanlab.cloud/x2k-tr/HNSCC_proteomics_gene_abundance_log2_reference_intensity_normalized_Tumor.tsv',\n",
    "    },\n",
    "    section='primary',\n",
    ") %}\n",
    "\n",
    "{% set impute_protein_expr = BoolField(\n",
    "    name='impute_protein_expr',\n",
    "    label='Impute protein expression (averages)',\n",
    "    default=True,\n",
    "    section='primary',\n",
    ") %}\n",
    "\n",
    "{% set phospho_file = FileField(\n",
    "    name='phospho_expr',\n",
    "    label='Tumor protein phosphorylation',\n",
    "    description='''\n",
    "    File should be a tsv/csv of the form:\n",
    "\n",
    "        Patient 1 Tumor    Patient 2 Tumor             ...\n",
    "    -------------------------------------------------\n",
    "    Phosphoprotein 1    0                      200         ...\n",
    "    -------------------------------------------------\n",
    "    Phosphoprotein 2    5                      180         ...\n",
    "    -------------------------------------------------\n",
    "                ...                 ...                       ...           ...\n",
    "    ''',\n",
    "    default='HNSCC_phospho_observed.tsv',\n",
    "    required=False,\n",
    "    examples={\n",
    "        'HNSCC_phospho_observed.tsv': 'https://minio.dev.maayanlab.cloud/x2k-tr/HNSCC_phospho_site_abundance_tumor.tsv',\n",
    "    },\n",
    "    section='primary',\n",
    ") %}\n",
    "\n",
    "{% set impute_phospho_expr = BoolField(\n",
    "    name='impute_phospho_expr',\n",
    "    label='Impute protein phosphorylation (averages)',\n",
    "    default=True,\n",
    "    section='primary',\n",
    ") %}\n",
    "\n",
    "{% set meta_file = FileField(\n",
    "    name='meta',\n",
    "    label='Sample metadata',\n",
    "    description='Samples on the rows, metadata on the columns',\n",
    "    default='HNSCC_meta.txt',\n",
    "    required=True,\n",
    "    examples={\n",
    "        'HNSCC_meta.txt': 'https://minio.dev.maayanlab.cloud/x2k-tr/HNSCC_meta.txt',\n",
    "    },\n",
    "    section='primary',\n",
    ") %}\n",
    "\n",
    "{% set membrane_screener_ = TabField(\n",
    "    name='membrane_screener',\n",
    "    label='Prioritize membrane genes',\n",
    "    description='Use a list of genes that encode cell surface proteins to identify membrane. Only human currently supported.',\n",
    "    default='Yes',\n",
    "    section='primary',\n",
    "    choices={\n",
    "     'Yes': [\n",
    "        ChoiceField(\n",
    "                name='membrane_list',\n",
    "                label='Membrane gene list',\n",
    "                description='Choose the source for list of membrane genes.',\n",
    "                choices={\n",
    "                    'COMPARTMENTS + Human Protein Atlas': \"'https://appyters.maayanlab.cloud/storage/Tumor_Gene_Target_Screener/surfaceome.csv'\",\n",
    "                    'Membranome': \"'https://lomize-group-membranome.herokuapp.com/proteins?fileFormat=csv'\",\n",
    "                },\n",
    "                default='COMPARTMENTS + Human Protein Atlas',\n",
    "            ),\n",
    "    ],\n",
    "    'No': [\n",
    "    ]\n",
    "    }\n",
    ") %}\n",
    "\n",
    "{% set membrane_screener_list = membrane_screener_.value[0] %}\n",
    "\n",
    "{% set membrane_screener = membrane_screener_.raw_value == 'Yes' %}\n"
   ]
  },
  {
   "cell_type": "markdown",
   "metadata": {},
   "source": [
    "# X2KTR\n",
    "## Expression to Kinases & Target Ranger\n",
    "Finding targets and key to cell signaling pathways that are uniquely activated in tumor cells while absent from all normal tissues and cell types remains a significant challenge. In addition, targets identified from analyzing transcriptomics do not ensure that the targets are also expressed at the protein level. Furthermore, heterogeneity within the tumor, across patients of the same cancer type, and across cancers, underscore the need for subtype-specific personalized target identification. Our analysis and workflows address some of these challenges by combining phosphoproteomics, proteomics, and transcriptomics with comprehensive normal tissue and cell type atlases to identify safer targets for cancer subtypes. "
   ]
  },
  {
   "cell_type": "code",
   "execution_count": null,
   "metadata": {},
   "outputs": [],
   "source": [
    "from helpers import *\n",
    "import os\n",
    "import re\n",
    "import qnorm\n",
    "from tqdm import tqdm\n",
    "import numpy as np\n",
    "import pandas as pd\n",
    "import scanpy as sc\n",
    "\n",
    "from matplotlib import cm\n",
    "from matplotlib.patches import Rectangle\n",
    "import matplotlib.pyplot as plt\n",
    "import seaborn as sns\n",
    "%matplotlib inline\n",
    "\n",
    "from IPython.display import HTML, display, Markdown, FileLink\n",
    "from matplotlib.gridspec import GridSpec\n",
    "from matplotlib_venn import venn2\n",
    "from maayanlab_bioinformatics.normalization import zscore_normalize, log2_normalize\n",
    "from scipy.stats import zscore\n",
    "from maayanlab_bioinformatics.dge import limma_voom_differential_expression\n",
    "from maayanlab_bioinformatics.harmonization.ncbi_genes import ncbi_genes_lookup\n",
    "from maayanlab_bioinformatics.api import enrichr_link_from_genes\n",
    "\n",
    "os.makedirs('results', exist_ok=True)\n",
    "os.makedirs('figures', exist_ok=True)\n",
    "\n",
    "lookup = ncbi_genes_lookup(organism='Mammalia/Homo_sapiens')\n",
    "\n",
    "import sys\n",
    "import contextlib\n",
    "@contextlib.contextmanager\n",
    "def suppress_output(stdout=True, stderr=True, dest=os.devnull):\n",
    "    ''' Usage:\n",
    "    with suppress_output():\n",
    "        print('hi')\n",
    "    '''\n",
    "    dev_null = open(dest, 'a')\n",
    "    if stdout:\n",
    "        _stdout = sys.stdout\n",
    "        sys.stdout = dev_null\n",
    "    if stderr:\n",
    "        _stderr = sys.stderr\n",
    "        sys.stderr = dev_null\n",
    "    try:\n",
    "        yield\n",
    "    finally:\n",
    "        if stdout:\n",
    "            sys.stdout = _stdout\n",
    "        if stderr:\n",
    "            sys.stderr = _stderr"
   ]
  },
  {
   "cell_type": "code",
   "execution_count": null,
   "metadata": {},
   "outputs": [],
   "source": [
    "%%appyter code_exec\n",
    "has_rna_file = {{ rna_file }} != ''\n",
    "has_prot_file = {{ prot_file }} != ''\n",
    "has_phospho_file = {{ phospho_file }} != ''\n",
    "has_meta_file = {{ meta_file }} != ''"
   ]
  },
  {
   "cell_type": "code",
   "execution_count": null,
   "metadata": {},
   "outputs": [],
   "source": [
    "%%appyter code_exec\n",
    "if has_rna_file:\n",
    "    rna_df = read_table({{ rna_file }})\n",
    "    rna_filename = {{ rna_file }}.split('.')[0]\n",
    "if has_prot_file:\n",
    "    prot_df = read_table({{ prot_file }})\n",
    "    prot_filename = {{ prot_file }}.split('.')[0]\n",
    "if has_phospho_file:\n",
    "    phospho_df = read_table({{ phospho_file }})\n",
    "    phospho_filename = {{ phospho_file }}.split('.')[0]\n",
    "if has_meta_file:\n",
    "    meta_df = read_table({{ meta_file }})"
   ]
  },
  {
   "cell_type": "markdown",
   "metadata": {},
   "source": [
    "# TRANSCRIPTOMICS"
   ]
  },
  {
   "cell_type": "markdown",
   "metadata": {},
   "source": [
    "### Cluster Samples from RNA-seq Expression for Target Identification\n",
    "\n",
    "Grouping patients together who share similar vectors of expression may lead to identification of targets specific to smaller subsets of patients. Clustering is performed on the 5000 most variable log2 normalized genes using the leiden community algorithm [1]. Additionally, differentially expressed genes are submitted to Enrichr [2] for identification of biological pathways from Gene Ontology [3] and Wikipathways [4] and phenotypes from Mouse Genome Informatics (MGI) [5]. Consensus labels are then determined using OpenAI's GPT-4 model and the significantly enriched terms for each cluster."
   ]
  },
  {
   "cell_type": "code",
   "execution_count": null,
   "metadata": {},
   "outputs": [],
   "source": [
    "if has_rna_file:\n",
    "    rna_df.index = rna_df.index.map(lambda g: g.split('.')[0])\n",
    "    rna_df.index = rna_df.index.map(lambda g: lookup(g) if lookup(g) else g)"
   ]
  },
  {
   "cell_type": "code",
   "execution_count": null,
   "metadata": {},
   "outputs": [],
   "source": [
    "if has_rna_file:    \n",
    "    adata = sc.AnnData(log2_normalize(rna_df).T.values, dtype=\"int\")\n",
    "    adata.var['gene_names'] = rna_df.index.values\n",
    "    adata.obs['samples'] = rna_df.columns.values\n",
    "    # Sort genes by variance\n",
    "    adata.var['var_rank'] = (-np.var(adata.X, axis=0, dtype=\"float\")).argsort()\n",
    "    adata = adata[:, adata.var.var_rank < 5000]\n",
    "\n",
    "    min_dist=0.01\n",
    "    n_neighbors=10\n",
    "    resolution=1\n",
    "    # UMAP\n",
    "    sc.pp.pca(adata)\n",
    "    sc.pp.neighbors(adata, n_neighbors=n_neighbors)  # create neighborhood graph\n",
    "    sc.tl.umap(adata, min_dist=min_dist, alpha=0.1)  # embed umap based on neighborhood graph\n",
    "    sc.tl.leiden(adata, resolution=resolution)  # clustering\n",
    "    sc.pl.umap(adata, color=\"leiden\", size=80)"
   ]
  },
  {
   "cell_type": "code",
   "execution_count": null,
   "metadata": {},
   "outputs": [],
   "source": [
    "if has_rna_file:\n",
    "    leiden_df = pd.DataFrame([adata.obs['leiden'], adata.obs['samples']]).T.set_index('samples')\n",
    "    clusters = list(leiden_df['leiden'].unique())\n",
    "    leiden_df.value_counts()"
   ]
  },
  {
   "cell_type": "code",
   "execution_count": null,
   "metadata": {},
   "outputs": [],
   "source": [
    "if has_rna_file:\n",
    "    cluster_dges = {}\n",
    "    for c in sorted(clusters):\n",
    "        cluster_dges[c] = {}\n",
    "        cluster_samples = list(leiden_df[leiden_df['leiden'] == c].index.values)\n",
    "        other_samples = [s for s in rna_df.columns if s not in cluster_samples]\n",
    "\n",
    "        with suppress_output():\n",
    "            dge = limma_voom_differential_expression(\n",
    "                rna_df[other_samples], rna_df[cluster_samples],\n",
    "                voom_design=True,\n",
    "            )\n",
    "        dge_filename = f'results/{rna_filename}_cluster_{c}_vs_rest_dge_limma.tsv'\n",
    "        dge.sort_values(by=\"adj.P.Val\", ascending=True).to_csv(dge_filename, sep='\\t')\n",
    "        sig_dge = dge[dge['adj.P.Val'] < 0.01]\n",
    "        cluster_dges[c]['up'] = list(sig_dge[sig_dge['logFC'] > 0].index.values)\n",
    "        cluster_dges[c]['down'] = list(sig_dge[sig_dge['logFC'] < 0].index.values)\n",
    "        print('Identified', len(cluster_dges[c]['up']), 'upregulated genes and', len(cluster_dges[c]['down']), 'downregulated genes for cluster', c)\n",
    "        display(FileLink(dge_filename, result_html_prefix=f'Differential expression for cluster {c}: '))"
   ]
  },
  {
   "cell_type": "code",
   "execution_count": null,
   "metadata": {},
   "outputs": [],
   "source": [
    "if has_rna_file:\n",
    "    enrichr_lists = {}\n",
    "\n",
    "    for c in sorted(clusters):\n",
    "        try:\n",
    "            # filter for only protein coding genes to match Enrichr background.\n",
    "            up_protein_coding = [g for g in cluster_dges[c]['up'] if lookup(g)]\n",
    "            dn_protein_coding = [g for g in cluster_dges[c]['down'] if lookup(g)]\n",
    "            up = enrichr_link_from_genes(up_protein_coding, f'Upregulated genes in cluster {c}')\n",
    "            dn = enrichr_link_from_genes(dn_protein_coding, f'Downregulated genes in cluster {c}')\n",
    "            display(HTML(f\"<a href='{up['link']}' target='_blank'>Upregulated genes in cluster {c} Enrichr results\", ))\n",
    "            display(HTML(f\"<a href='{dn['link']}' target='_blank'>Downregulated genes in cluster {c} Enrichr results\", ))\n",
    "            enrichr_lists[c] = (up, dn)\n",
    "        except Exception as e:\n",
    "            display(f'Error processing cluster {c}:', e)\n",
    "        break\n"
   ]
  },
  {
   "cell_type": "code",
   "execution_count": null,
   "metadata": {},
   "outputs": [],
   "source": [
    "if has_rna_file:\n",
    "    enrichr_labels = {}\n",
    "    for cluster in enrichr_lists:\n",
    "        enrichr_labels[cluster] = {}\n",
    "        up, dn = enrichr_lists[cluster]\n",
    "        display(Markdown(f'### Cluster {cluster}'))\n",
    "        display(Markdown(f'#### Upregulated genes'))\n",
    "        try:\n",
    "            res_list = enrich_libraries(up['userListId'])\n",
    "            enrichr_labels[cluster]['up'] = res_list\n",
    "        except Exception as e:\n",
    "            print(f'Error processing cluster {cluster} upregulated genes:', e)\n",
    "        fig = enrichr_figure(res_list)\n",
    "        fig.savefig(f'figures/enrichr_up_cluster_{cluster}.png', bbox_inches='tight')\n",
    "        fig.savefig(f'figures/enrichr_up_cluster_{cluster}.svg', bbox_inches='tight')\n",
    "        display(FileLink(f'figures/enrichr_up_cluster_{cluster}.png', result_html_prefix='Enrichr figure for upregulated genes in cluster PNG: '))\n",
    "        display(FileLink(f'figures/enrichr_up_cluster_{cluster}.svg', result_html_prefix='Enrichr figure for upregulated genes in cluster SVG: '))\n",
    "        display(Markdown(f'#### Downregulated genes'))\n",
    "        try:\n",
    "            res_list = enrich_libraries(dn['userListId'])\n",
    "            enrichr_labels[cluster]['down'] = res_list\n",
    "        except Exception as e:\n",
    "            print(f'Error processing cluster {cluster} downregulated genes:', e)\n",
    "        fig = enrichr_figure(res_list)\n",
    "        fig.savefig(f'figures/enrichr_dn_cluster_{cluster}.png', bbox_inches='tight')\n",
    "        fig.savefig(f'figures/enrichr_dn_cluster_{cluster}.svg', bbox_inches='tight')\n",
    "        display(FileLink(f'figures/enrichr_dn_cluster_{cluster}.png', result_html_prefix='Enrichr figure for downregulated genes in cluster PNG: '))\n",
    "        display(FileLink(f'figures/enrichr_dn_cluster_{cluster}.svg', result_html_prefix='Enrichr figure for downregulated genes in cluster SVG: '))"
   ]
  },
  {
   "cell_type": "markdown",
   "metadata": {},
   "source": [
    "### Consensus Cluster Labels\n",
    "We can utilize GPT-4 and significantly enriched terms from Enrichr to compute 'consensus' labels for each identified cluster."
   ]
  },
  {
   "cell_type": "code",
   "execution_count": null,
   "metadata": {},
   "outputs": [],
   "source": [
    "if has_rna_file:\n",
    "    labels = label_clusters(enrichr_labels)\n",
    "    adata.obs['label'] = adata.obs['leiden'].map(lambda c: labels.get(c, ''))\n",
    "    sc.pl.umap(adata, color=\"label\", size=80)\n",
    "    plt.savefig(f'figures/{rna_filename}_clusters_labeled.png', bbox_inches='tight')\n",
    "    plt.savefig(f'figures/{rna_filename}_clusters_labeled.svg', bbox_inches='tight')\n",
    "    display(FileLink(f'figures/{rna_filename}_clusters_labeled.png', result_html_prefix='Clusters labeled UMAP PNG: '))\n",
    "    display(FileLink(f'figures/{rna_filename}_clusters_labeled.svg', result_html_prefix='Clusters labeled UMAP PNG: '))"
   ]
  },
  {
   "cell_type": "code",
   "execution_count": null,
   "metadata": {},
   "outputs": [],
   "source": [
    "%%appyter markdown\n",
    "{% if membrane_screener %}\n",
    "### Load Membrane Proteins for Screening\n",
    "{% if membrane_screener_list.raw_value == 'Membranome' %}\n",
    "Membrane proteins are ideal targets, we can get these from [Membranome](https://membranome.org/) among other places.\n",
    "{% else %}\n",
    "Membrane proteins are ideal targets. This membrane/surface protein filter was created from the intersection of two data sources:\n",
    "[COMPARTMENTS](https://compartments.jensenlab.org/About) knowledge predictions for human genes where a filter was applied for \"Plasma membrane\" and \"Cell surface\" subcellular localization with a confidence score greater than or equal to 3 and [Human Protein Atlas](https://www.proteinatlas.org/) membrane proteins where a filter was applied for \"Evidence at protein level\" and removal of genes with \"Low tissue specificity.\"\n",
    "{% endif %}\n",
    "{% endif %}"
   ]
  },
  {
   "cell_type": "code",
   "execution_count": null,
   "metadata": {},
   "outputs": [],
   "source": [
    "%%appyter code_exec\n",
    "{% if membrane_screener %}\n",
    "proteins = pd.read_csv({{ membrane_screener_list }})\n",
    "{% if membrane_screener_list.raw_value == 'Membranome' %}\n",
    "proteins = proteins[proteins['species_name_cache'] == 'Homo sapiens']\n",
    "{% endif %}\n",
    "membrane_proteins = list(proteins['genename'].map(lookup).dropna().values)\n",
    "{% endif %}"
   ]
  },
  {
   "cell_type": "markdown",
   "metadata": {},
   "source": [
    "### Cell Surface Target Identification\n",
    "\n",
    "By comparing the inputted samples with processed RNA-seq from several atlases containing healthy expression (GTEx [2], ARCHS4 [3], and Tabula Sapiens [4]), we identify genes that are highly expressed in the target cells while lowly expressed across normal human cell types, and tissues."
   ]
  },
  {
   "cell_type": "code",
   "execution_count": null,
   "metadata": {},
   "outputs": [],
   "source": [
    "if has_rna_file:    \n",
    "    targets = {}\n",
    "    bgs = {'GTEx': 'gtex-gene-stats.tsv', 'ARCHS4': 'archs4-gene-stats.tsv', 'TS': 'ts_10x_cell-ontology-class_donors_tissue-labels_v1.tsv'}\n",
    "    for bg in bgs:\n",
    "        print('Finding Targets using', bg)\n",
    "        df_bg_stats = pd.read_csv(f\"https://appyters.maayanlab.cloud/storage/Tumor_Gene_Target_Screener/{bgs[bg]}\", sep='\\t', index_col=[0,1])\n",
    "        df_bg_genes = df_bg_stats.unstack().index.map(lambda idx: lookup(idx.partition('.')[0]))\n",
    "        df_bg_stats = df_bg_stats.unstack().groupby(df_bg_genes, observed=True).median().stack()\n",
    "        df_bg_expr = df_bg_stats.loc[(slice(None), ['25%', '50%', '75%']), :].unstack()\n",
    "        common_index = list(set(rna_df.index) & set(df_bg_expr.index))\n",
    "        target_distribution = df_bg_expr.loc[common_index, :].median(axis=1)\n",
    "        expr_df = rna_df.loc[common_index, :]\n",
    "        expr_df.reset_index(inplace=True)\n",
    "        expr_df.drop_duplicates(subset='gene_id', inplace=True)\n",
    "        expr_df.set_index('gene_id', inplace=True, drop=True)\n",
    "        df_expr_norm = qnorm.quantile_normalize(expr_df.loc[common_index, :], target=target_distribution)\n",
    "        df_bg_expr_norm = qnorm.quantile_normalize(df_bg_expr.loc[common_index, :], target=target_distribution)\n",
    "        for cluster in tqdm(clusters):\n",
    "            if cluster not in targets: targets[cluster] = {}\n",
    "            cluster_samples = list(leiden_df[leiden_df['leiden'] == cluster].index.values)\n",
    "            with suppress_output():\n",
    "                df_bg_expr_norm.columns = df_bg_expr_norm.columns.to_flat_index().map(lambda s: ', '.join(s))\n",
    "                dge = limma_voom_differential_expression(\n",
    "                    df_bg_expr_norm, df_expr_norm[cluster_samples],\n",
    "                    voom_design=True,\n",
    "                )\n",
    "                targets[cluster][bg] = dge[(dge['adj.P.Val'] < 0.01) & (dge['t'] > 0)].sort_values('t', ascending=False).index.values "
   ]
  },
  {
   "cell_type": "code",
   "execution_count": null,
   "metadata": {},
   "outputs": [],
   "source": [
    "if has_rna_file:\n",
    "    YlGnBu = cm.get_cmap('YlGnBu_r', 8)\n",
    "    cmap = {\"None\":YlGnBu(0), \"ARCHS4\": YlGnBu(1), \"GTEx\":YlGnBu(2), \"TS\": YlGnBu(4), \"ARCHS4-GTEx\":YlGnBu(3),  \"ARCHS4-TS\": YlGnBu(5), \"GTEx-TS\": YlGnBu(6), \"All\": YlGnBu(7)}\n",
    "\n",
    "    top_targets_n = 100\n",
    "    target_list = []\n",
    "    for cluster in targets:\n",
    "        for bg in targets[cluster]:\n",
    "            target_list.extend(list(filter(lambda g: g in membrane_proteins, targets[cluster][bg][:top_targets_n])))\n",
    "    data1, data2, data3 = [], [], []\n",
    "    similarity = []\n",
    "    target_list = list(set(target_list))\n",
    "\n",
    "    for gene in target_list:\n",
    "        a = [1 if gene in targets[c]['ARCHS4'][:top_targets_n] else 0 for c in clusters]\n",
    "        g = [2 if gene in targets[c]['GTEx'][:top_targets_n] else 0 for c in clusters]\n",
    "        l = [4 if gene in targets[c]['TS'][:top_targets_n] else 0 for c in clusters]\n",
    "        data1.append(a)\n",
    "        data2.append(g)\n",
    "        data3.append(l)\n",
    "        similarity.append(np.dot(np.dot(np.array(a), np.array(g)), np.array(l)))\n",
    "\n",
    "    data = np.add(np.add(data1, data2), data3)\n",
    "\n",
    "    membrane_target_mat = pd.DataFrame(data)\n",
    "    membrane_target_mat.columns = [f\"Cluster {c}\" for c in clusters]\n",
    "    membrane_target_mat.index = target_list\n",
    "\n",
    "    membrane_target_mat['count'] = membrane_target_mat.sum(axis=1)\n",
    "    membrane_target_mat = membrane_target_mat[membrane_target_mat['count'] >= 7]\n",
    "    membrane_target_mat = membrane_target_mat.rename_axis('Membrane Target').sort_values(by = ['count', 'Membrane Target'], ascending = [False, True]).drop('count', axis=1)\n",
    "\n",
    "    h = membrane_target_mat.shape[0]\n",
    "\n",
    "\n",
    "\n",
    "    g = sns.clustermap(membrane_target_mat, figsize=(4,0.3*h+2*(h<15)), cmap=YlGnBu, cbar_pos=None, dendrogram_ratio=0.1-(h<40)*0.01*(h-30), row_cluster=False, xticklabels=True, yticklabels=True, standard_scale=1)\n",
    "    g.ax_row_dendrogram.legend(handles=[Rectangle((0, 0), 0, 0, color=val, label=key) for key, val in cmap.items()],\n",
    "                                    title='Background', loc='upper right')\n",
    "\n",
    "    plt.show()\n",
    "\n",
    "    g.savefig(f'figures/{rna_filename}_membrane_target_matrix.png', dpi=300, bbox_inches='tight')\n",
    "    g.savefig(f'figures/{rna_filename}_membrane_target_matrix.svg', dpi=300, bbox_inches='tight')\n",
    "    membrane_target_mat.to_csv(f'results/{rna_filename}_membrane_target_mat.csv')\n",
    "\n",
    "    display(FileLink(f'results/{rna_filename}_membrane_target_mat.csv', result_html_prefix='Download Membrane Target Matrix: '))\n",
    "    display(FileLink(f'figures/{rna_filename}_membrane_target_matrix.png', result_html_prefix='Membrane Target Matrix PNG: '))\n",
    "    display(FileLink(f'figures/{rna_filename}_membrane_target_matrix.svg', result_html_prefix='Membrane Target Matrix SVG: '))"
   ]
  },
  {
   "cell_type": "markdown",
   "metadata": {},
   "source": [
    "### Transcription Factor Enrichment Analysis with ChEA3\n",
    "\n",
    "To assess enriched transcription factors (TFs) from indiviudal samples, we normalize and z-score the uploaded RNA-seq data and submit upregulated and downregulated genes to ChEA3 [11] to retrieved ranked lists of TFs."
   ]
  },
  {
   "cell_type": "code",
   "execution_count": null,
   "metadata": {},
   "outputs": [],
   "source": [
    "if has_rna_file:\n",
    "    rna_df_log2_zscore = zscore(log2_normalize(rna_df), axis=0)\n",
    "    rna_df_log2_zscore"
   ]
  },
  {
   "cell_type": "code",
   "execution_count": null,
   "metadata": {},
   "outputs": [],
   "source": [
    "if has_rna_file:    \n",
    "    chea_res = {}\n",
    "    for patient in tqdm(rna_df_log2_zscore.columns.values):\n",
    "        chea_res[patient] = {}\n",
    "        down_rows = rna_df_log2_zscore[patient].astype(float).sort_values(ascending=True)[:500]\n",
    "        up_rows = rna_df_log2_zscore[patient].astype(float).sort_values(ascending=False)[:500]\n",
    "\n",
    "        down_genes = list(set(down_rows.index.map(lambda g: lookup(g.split('.')[0]) if lookup(g.split('.')[0]) else g.split('.')[0])))\n",
    "        up_genes = list(set(up_rows.index.map(lambda g: lookup(g.split('.')[0]) if lookup(g.split('.')[0]) else g.split('.')[0])))\n",
    "\n",
    "        chea_down = get_chea3_results(down_genes, f'{patient}_down_genes')\n",
    "        chea_up = get_chea3_results(up_genes, f'{patient}_up_genes')\n",
    "        chea_res[patient]['down'] = chea_down\n",
    "        chea_res[patient]['up'] = chea_up"
   ]
  },
  {
   "cell_type": "markdown",
   "metadata": {},
   "source": [
    "#### Full ChEA Heatmap - Up Genes"
   ]
  },
  {
   "cell_type": "code",
   "execution_count": null,
   "metadata": {},
   "outputs": [],
   "source": [
    "if has_rna_file:    \n",
    "    reds_reversed = cm.get_cmap('Reds').reversed()\n",
    "    up_chea_comb = pd.concat([chea_res[p]['up'] for p in chea_res], axis=1)\n",
    "    g = sns.clustermap(up_chea_comb.astype(float), cmap=reds_reversed, center=0, xticklabels=False, yticklabels=False)\n",
    "    ax = g.ax_heatmap\n",
    "    ax.set_ylabel('Transcription Factors')\n",
    "    ax.set_xlabel('Samples')\n",
    "    g.savefig(f'figures/{rna_filename}_chea_up_heatmap.png', dpi=300, bbox_inches='tight')\n",
    "    g.savefig(f'figures/{rna_filename}_chea_up_heatmap.svg', dpi=300, bbox_inches='tight')\n",
    "    display(FileLink(f'figures/{rna_filename}_chea_up_heatmap.png', result_html_prefix='ChEA3 Up Heatmap PNG: '))\n",
    "    display(FileLink(f'figures/{rna_filename}_chea_up_heatmap.svg', result_html_prefix='ChEA3 Up Heatmap SVG: '))"
   ]
  },
  {
   "cell_type": "markdown",
   "metadata": {},
   "source": [
    "### Top 20 Variable TFs - ChEA Heatmap (Up Genes)"
   ]
  },
  {
   "cell_type": "code",
   "execution_count": null,
   "metadata": {},
   "outputs": [],
   "source": [
    "if has_rna_file:    \n",
    "    top_20_var_tfs = up_chea_comb.var(axis=1).sort_values(ascending=False).index[:20]\n",
    "    g = sns.clustermap(up_chea_comb.loc[top_20_var_tfs].astype(float), cmap=reds_reversed, center=0, xticklabels=False)\n",
    "    ax = g.ax_heatmap\n",
    "    ax.set_ylabel('Top 20 TFs by Variance')\n",
    "    ax.set_xlabel('Samples')\n",
    "    g.savefig(f'figures/{rna_filename}_top_var_tfs_up_heatmap.png', dpi=300, bbox_inches='tight')\n",
    "    g.savefig(f'figures/{rna_filename}_top_var_tfs_up_heatmap.svg', dpi=300, bbox_inches='tight')\n",
    "    display(FileLink(f'figures/{rna_filename}_top_var_tfs_up_heatmap.png', result_html_prefix='Most Variable TFs Heatmap (up genes) PNG: '))\n",
    "    display(FileLink(f'figures/{rna_filename}_top_var_tfs_up_heatmap.svg', result_html_prefix='Most Variable TFs Heatmap (up genes) SVG: '))"
   ]
  },
  {
   "cell_type": "markdown",
   "metadata": {},
   "source": [
    "#### Full ChEA Heatmap - Down Genes"
   ]
  },
  {
   "cell_type": "code",
   "execution_count": null,
   "metadata": {},
   "outputs": [],
   "source": [
    "if has_rna_file:    \n",
    "    down_chea_comb = pd.concat([chea_res[p]['down'] for p in chea_res], axis=1)\n",
    "    g = sns.clustermap(down_chea_comb.astype(float), cmap=reds_reversed, center=0, xticklabels=False, yticklabels=False)\n",
    "    ax = g.ax_heatmap\n",
    "    ax.set_ylabel('Transcription Factors')\n",
    "    ax.set_xlabel('Samples')\n",
    "    g.savefig(f'figures/{rna_filename}_chea_dn_heatmap.png', dpi=300, bbox_inches='tight')\n",
    "    g.savefig(f'figures/{rna_filename}_chea_dn_heatmap.svg', dpi=300, bbox_inches='tight')\n",
    "    display(FileLink(f'figures/{rna_filename}_chea_dn_heatmap.png', result_html_prefix='ChEA3 Down Heatmap PNG: '))\n",
    "    display(FileLink(f'figures/{rna_filename}_chea_dn_heatmap.svg', result_html_prefix='ChEA3 Down Heatmap SVG: '))"
   ]
  },
  {
   "cell_type": "markdown",
   "metadata": {},
   "source": [
    "### Top 20 Variable TFs - ChEA Heatmap (Down Genes)"
   ]
  },
  {
   "cell_type": "code",
   "execution_count": null,
   "metadata": {},
   "outputs": [],
   "source": [
    "if has_rna_file:    \n",
    "    top_20_var_tfs = down_chea_comb.var(axis=1).sort_values(ascending=False).index[:20]\n",
    "    g = sns.clustermap(down_chea_comb.loc[top_20_var_tfs].astype(float), cmap=reds_reversed, center=0, xticklabels=False)\n",
    "    ax = g.ax_heatmap\n",
    "    ax.set_ylabel('Top 20 TFs by Variance')\n",
    "    ax.set_xlabel('Samples')\n",
    "    g.savefig(f'figures/{rna_filename}_top_var_tfs_dn_heatmap.png', dpi=300, bbox_inches='tight')\n",
    "    g.savefig(f'figures/{rna_filename}_top_var_tfs_dn_heatmap.svg', dpi=300, bbox_inches='tight')\n",
    "    display(FileLink(f'figures/{rna_filename}_top_var_tfs_dn_heatmap.png', result_html_prefix='Most Variable TFs Heatmap (down genes) PNG: '))\n",
    "    display(FileLink(f'figures/{rna_filename}_top_var_tfs_dn_heatmap.svg', result_html_prefix='Most Variable TFs Heatmap (down genes) SVG: '))"
   ]
  },
  {
   "cell_type": "markdown",
   "metadata": {},
   "source": [
    "### Compute TF intermediates using Geneshot and ARCHS4 Coexpression\n",
    "\n",
    "To identify potential intermediates between transcription factors and upstream kinases we utilize Geneshot[12] to augment our enriched transcription factor lists with co-expression from ARCHS4[9]. "
   ]
  },
  {
   "cell_type": "code",
   "execution_count": null,
   "metadata": {},
   "outputs": [],
   "source": [
    "if has_rna_file:    \n",
    "    ids = list(chea_res.keys())\n",
    "\n",
    "    n_TFs = 20\n",
    "\n",
    "    up_TFs = {}\n",
    "    up_intermediates = {}\n",
    "    with tqdm(total=len(ids)) as pbar:\n",
    "        pbar.set_description(\"Augmenting TFs from up-genes...\")\n",
    "        for id in ids:\n",
    "            up_TFs[id] = chea_res[id]['up'].astype(float).sort_values(by='Score', ascending=True).index[:n_TFs].to_list()\n",
    "            up_intermediates[id] = geneshot_set_augment(gene_list=up_TFs[id])\n",
    "            pbar.update(1)\n",
    "    up_TFs = pd.DataFrame(up_TFs)\n",
    "    up_intermediates = pd.DataFrame(up_intermediates)\n",
    "    up_TFs.to_csv(f\"results/up_TFs.csv\", index=False)\n",
    "    up_intermediates.to_csv(f\"results/up_intermediates.csv\", index=False)\n",
    "\n",
    "    dn_TFs = {}\n",
    "    dn_intermediates = {}\n",
    "    with tqdm(total=len(ids)) as pbar:\n",
    "        pbar.set_description(\"Augmenting TFs from down-genes...\")\n",
    "        for id in ids:\n",
    "            dn_TFs[id] = chea_res[id]['down'].astype(float).sort_values(by='Score', ascending=True).index[:n_TFs].to_list()\n",
    "            dn_intermediates[id] = geneshot_set_augment(gene_list=dn_TFs[id])\n",
    "            pbar.update(1)\n",
    "    dn_TFs = pd.DataFrame(dn_TFs)\n",
    "    dn_intermediates = pd.DataFrame(dn_intermediates)\n",
    "    dn_TFs.to_csv(f\"results/dn_TFs.csv\", index=False)\n",
    "    dn_intermediates.to_csv(f\"results/dn_intermediates.csv\", index=False)"
   ]
  },
  {
   "cell_type": "markdown",
   "metadata": {},
   "source": [
    "### Infer Kinases using KEA3 from TFs + Intermediates\n",
    "\n",
    "To infer upstream kinases in the X2K (Expression to Kinases) pipeline we can then use the coexpressed intermediates and enriched transcription factors to infer kinases using KEA3[13]."
   ]
  },
  {
   "cell_type": "code",
   "execution_count": null,
   "metadata": {},
   "outputs": [],
   "source": [
    "if has_rna_file:    \n",
    "    # Compute normalized kinase enrichment scores\n",
    "    up_kinases = {}\n",
    "    dn_kinases = {}\n",
    "    x2k_up = {}\n",
    "    x2k_dn = {}\n",
    "\n",
    "    with tqdm(total=len(ids)) as pbar:\n",
    "        pbar.set_description(\"Computing RNA-seq derived KEA scores...\")\n",
    "        for id in ids:\n",
    "            up_geneset = list(set(list(up_TFs[id]) + list(up_intermediates[id])))\n",
    "            dn_geneset = list(set(list(dn_TFs[id]) + list(dn_intermediates[id])))\n",
    "            up_results = get_kea3_results(up_geneset)\n",
    "            dn_results = get_kea3_results(dn_geneset)\n",
    "            up_kinases[id] = up_results.astype(float).sort_values(by=\"Score\", ascending=True).index.to_list()\n",
    "            dn_kinases[id] = dn_results.astype(float).sort_values(by=\"Score\", ascending=True).index.to_list()\n",
    "            if len(x2k_up) == 0:\n",
    "                KINASES = up_results.Score.index.to_list()\n",
    "            x2k_up[id] = up_results.Score.loc[KINASES]\n",
    "            x2k_dn[id] = dn_results.Score.loc[KINASES]\n",
    "            pbar.update(1)\n",
    "\n",
    "    pd.DataFrame(up_kinases).to_csv(f\"results/up_kinases.csv\", index=False)\n",
    "    pd.DataFrame(dn_kinases).to_csv(f\"results/dn_kinases.csv\", index=False)\n",
    "    x2k_up = pd.DataFrame(x2k_up, index=KINASES)\n",
    "    x2k_dn = pd.DataFrame(x2k_dn, index=KINASES)\n",
    "    x2k_up.to_csv(f\"results/up_x2k_meanRank.csv\")\n",
    "    x2k_dn.to_csv(f\"results/dn_x2k_meanRank.csv\")"
   ]
  },
  {
   "cell_type": "markdown",
   "metadata": {},
   "source": [
    "#### X2K Heatmap - Up Genes"
   ]
  },
  {
   "cell_type": "code",
   "execution_count": null,
   "metadata": {},
   "outputs": [],
   "source": [
    "if has_rna_file:    \n",
    "    reds_reversed = cm.get_cmap('Reds').reversed()\n",
    "    g = sns.clustermap(x2k_up.astype(float), cmap=reds_reversed, center=0, xticklabels=False, yticklabels=False)\n",
    "    ax = g.ax_heatmap\n",
    "    ax.set_ylabel('Kinases')\n",
    "    ax.set_xlabel('Samples')\n",
    "    g.savefig(f'figures/{rna_filename}_x2k_up_heatmap.png', dpi=300, bbox_inches='tight')\n",
    "    g.savefig(f'figures/{rna_filename}_x2k_up_heatmap.svg', dpi=300, bbox_inches='tight')\n",
    "    display(FileLink(f'figures/{rna_filename}_x2k_up_heatmap.png', result_html_prefix='X2K Up Heatmap PNG: '))\n",
    "    display(FileLink(f'figures/{rna_filename}_x2k_up_heatmap.svg', result_html_prefix='X2K Up Heatmap SVG: '))"
   ]
  },
  {
   "cell_type": "markdown",
   "metadata": {},
   "source": [
    "#### X2K Heatmap Top 20 Variable Kinases - Up Genes"
   ]
  },
  {
   "cell_type": "code",
   "execution_count": null,
   "metadata": {},
   "outputs": [],
   "source": [
    "if has_rna_file:    \n",
    "    top_20_var_x2k = x2k_up.var(axis=1).sort_values(ascending=False).index[:20]\n",
    "    g = sns.clustermap(x2k_up.loc[top_20_var_x2k].astype(float), cmap=reds_reversed, center=0, xticklabels=False)\n",
    "    ax = g.ax_heatmap\n",
    "    ax.set_ylabel('Kinases')\n",
    "    ax.set_xlabel('Samples')\n",
    "    g.savefig(f'figures/{rna_filename}_x2k_up_top20_heatmap.png', dpi=300, bbox_inches='tight')\n",
    "    g.savefig(f'figures/{rna_filename}_x2k_up_top20_heatmap.svg', dpi=300, bbox_inches='tight')\n",
    "    display(FileLink(f'figures/{rna_filename}_x2k_up_top20_heatmap.png', result_html_prefix='X2K Up Top 20 Kinases Heatmap PNG: '))\n",
    "    display(FileLink(f'figures/{rna_filename}_x2k_up_top20_heatmap.svg', result_html_prefix='X2K Up Top 20 Kinases Heatmap SVG: '))"
   ]
  },
  {
   "cell_type": "markdown",
   "metadata": {},
   "source": [
    "#### X2K Heatmap - Down Genes"
   ]
  },
  {
   "cell_type": "code",
   "execution_count": null,
   "metadata": {},
   "outputs": [],
   "source": [
    "if has_rna_file:    \n",
    "    g = sns.clustermap(x2k_dn.astype(float), cmap=reds_reversed, center=0, xticklabels=False, yticklabels=False)\n",
    "    ax = g.ax_heatmap\n",
    "    ax.set_ylabel('Kinases')\n",
    "    ax.set_xlabel('Samples')\n",
    "    g.savefig(f'figures/{rna_filename}_x2k_dn_heatmap.png', dpi=300, bbox_inches='tight')\n",
    "    g.savefig(f'figures/{rna_filename}_x2k_dn_heatmap.svg', dpi=300, bbox_inches='tight')\n",
    "    display(FileLink(f'figures/{rna_filename}_x2k_dn_heatmap.png', result_html_prefix='X2K Down Heatmap PNG: '))\n",
    "    display(FileLink(f'figures/{rna_filename}_x2k_dn_heatmap.svg', result_html_prefix='X2K Down Heatmap SVG: '))"
   ]
  },
  {
   "cell_type": "markdown",
   "metadata": {},
   "source": [
    "#### X2K Heatmap Top 20 Variable Kinases - Down Genes"
   ]
  },
  {
   "cell_type": "code",
   "execution_count": null,
   "metadata": {},
   "outputs": [],
   "source": [
    "if has_rna_file:    \n",
    "    top_20_var_x2k = x2k_dn.var(axis=1).sort_values(ascending=False).index[:20]\n",
    "    g = sns.clustermap(x2k_dn.loc[top_20_var_x2k].astype(float), cmap=reds_reversed, center=0, xticklabels=False)\n",
    "    ax = g.ax_heatmap\n",
    "    ax.set_ylabel('Kinases')\n",
    "    ax.set_xlabel('Samples')\n",
    "    g.savefig(f'figures/{rna_filename}_x2k_dn_top20_heatmap.png', dpi=300, bbox_inches='tight')\n",
    "    g.savefig(f'figures/{rna_filename}_x2k_dn_top20_heatmap.svg', dpi=300, bbox_inches='tight')\n",
    "    display(FileLink(f'figures/{rna_filename}_x2k_dn_top20_heatmap.png', result_html_prefix='X2K Down Top 20 Kinases Heatmap PNG: '))\n",
    "    display(FileLink(f'figures/{rna_filename}_x2k_dn_top20_heatmap.svg', result_html_prefix='X2K Down Top 20 Kinases Heatmap SVG: '))"
   ]
  },
  {
   "cell_type": "markdown",
   "metadata": {},
   "source": [
    "# PHOSPHOPROTEOMICS\n",
    "\n",
    "Using the uploaded phosphoproteomic data, we can identify upregulated and downregulated kinases using kinase enrichment analysis from KEA3 [13] and compare those kianses to the ones identified in the X2K analysis."
   ]
  },
  {
   "cell_type": "code",
   "execution_count": null,
   "metadata": {},
   "outputs": [],
   "source": [
    "if has_phospho_file:\n",
    "    percentages = []\n",
    "    idx = []\n",
    "    i = 0\n",
    "    for _, row in tqdm(phospho_df.iterrows(), total=len(phospho_df)):\n",
    "        value_counts = row.astype(float).isna().value_counts()\n",
    "        pr = value_counts[0]/len(row)\n",
    "        if pr > 0.8:\n",
    "            idx.append(i)\n",
    "        percentages.append(pr)\n",
    "        i += 1\n",
    "    ax = pd.Series(percentages).hist()\n",
    "    ax.set_ylabel(\"# Phosphosites\")\n",
    "    ax.set_xlabel(\"% with values\")"
   ]
  },
  {
   "cell_type": "code",
   "execution_count": null,
   "metadata": {},
   "outputs": [],
   "source": [
    "if has_phospho_file:\n",
    "    phospho_df.replace([np.inf, -np.inf], np.nan, inplace=True)\n",
    "    phospho_df_imputed = phospho_df.iloc[idx].T.fillna(phospho_df.iloc[idx].mean(axis=1)).T.dropna()\n",
    "    zscored_phospho = zscore(phospho_df_imputed)"
   ]
  },
  {
   "cell_type": "markdown",
   "metadata": {},
   "source": [
    "#### Most Variable Phosphosites"
   ]
  },
  {
   "cell_type": "code",
   "execution_count": null,
   "metadata": {},
   "outputs": [],
   "source": [
    "if has_phospho_file:\n",
    "    zscored_phospho_var = zscored_phospho.var(axis=1).sort_values(ascending=False)\n",
    "    zscored_phospho_var_list = zscored_phospho_var.index[:100].tolist()\n",
    "    zscored_phospho_var.head(10)"
   ]
  },
  {
   "cell_type": "code",
   "execution_count": null,
   "metadata": {},
   "outputs": [],
   "source": [
    "if has_phospho_file:    \n",
    "    g = sns.clustermap(zscored_phospho.loc[zscored_phospho_var_list], cmap='coolwarm', center=0, xticklabels=False, yticklabels=False)\n",
    "    ax = g.ax_heatmap\n",
    "    ax.set_ylabel('Top 100 Phosphosites by Variance')\n",
    "    ax.set_xlabel('Samples')\n",
    "    g.savefig(f'figures/{phospho_filename}_top_var_phosphosites_heatmap.png', dpi=300, bbox_inches='tight')\n",
    "    g.savefig(f'figures/{phospho_filename}_top_var_phosphosites_heatmap.svg', dpi=300, bbox_inches='tight')\n",
    "    display(FileLink(f'figures/{phospho_filename}_top_var_phosphosites_heatmap.png', result_html_prefix='Most Variable Phosphosites Heatmap PNG: '))\n",
    "    display(FileLink(f'figures/{phospho_filename}_top_var_phosphosites_heatmap.svg', result_html_prefix='Most Variable Phosphosites Heatmap SVG: '))"
   ]
  },
  {
   "cell_type": "code",
   "execution_count": null,
   "metadata": {},
   "outputs": [],
   "source": [
    "if has_phospho_file:\n",
    "    kea_res = {}\n",
    "    for patient in tqdm(zscored_phospho.columns):\n",
    "        kea_res[patient] = {}\n",
    "        down_rows = zscored_phospho[patient].astype(float).sort_values(ascending=True)[:500]\n",
    "        up_rows = zscored_phospho[patient].astype(float).sort_values(ascending=False)[:500]\n",
    "        \n",
    "        down_phopshosites = list(set(down_rows.index.map(lambda g: lookup(g.split('.')[0]) if lookup(g.split('.')[0]) else g.split('.')[0])))\n",
    "        up_phopshosites = list(set(up_rows.index.map(lambda g: lookup(g.split('.')[0]) if lookup(g.split('.')[0]) else g.split('.')[0])))\n",
    "\n",
    "        up_kinases = get_kea3_results(up_phopshosites, f'{patient}_up_phosphosites')\n",
    "        down_kinases = get_kea3_results(down_phopshosites, f'{patient}_down_phosphosites')\n",
    "        kea_res[patient]['up'] = up_kinases\n",
    "        kea_res[patient]['down'] = down_kinases"
   ]
  },
  {
   "cell_type": "markdown",
   "metadata": {},
   "source": [
    "#### Full KEA3 Heatmap - Up Phosphosites"
   ]
  },
  {
   "cell_type": "code",
   "execution_count": null,
   "metadata": {},
   "outputs": [],
   "source": [
    "if has_phospho_file:    \n",
    "    reds_reversed = cm.get_cmap('Reds').reversed()\n",
    "    up_kea_comb = pd.concat([kea_res[p]['up'] for p in kea_res], axis=1)\n",
    "    g = sns.clustermap(up_kea_comb.astype(float), cmap=reds_reversed, center=0, xticklabels=False, yticklabels=False)\n",
    "    ax = g.ax_heatmap\n",
    "    ax.set_ylabel('Kinases')\n",
    "    ax.set_xlabel('Samples')\n",
    "    g.savefig(f'figures/{phospho_filename}_kea_up_heatmap.png', dpi=300, bbox_inches='tight')\n",
    "    g.savefig(f'figures/{phospho_filename}_kea_up_heatmap.svg', dpi=300, bbox_inches='tight')\n",
    "    display(FileLink(f'figures/{phospho_filename}_kea_up_heatmap.png', result_html_prefix='KEA3 Up Heatmap PNG: '))\n",
    "    display(FileLink(f'figures/{phospho_filename}_kea_up_heatmap.svg', result_html_prefix='KEA3 Up Heatmap SVG: '))"
   ]
  },
  {
   "cell_type": "markdown",
   "metadata": {},
   "source": [
    "#### KEA3 Heatmap Top 20 Variable Kinases - Up Phosphosites"
   ]
  },
  {
   "cell_type": "code",
   "execution_count": null,
   "metadata": {},
   "outputs": [],
   "source": [
    "if has_phospho_file:   \n",
    "    top_20_var_kinases = up_kea_comb.var(axis=1).sort_values(ascending=False).index[0:20]\n",
    "    g = sns.clustermap(up_kea_comb.loc[top_20_var_kinases].astype(float), cmap=reds_reversed, center=0, xticklabels=False)\n",
    "    ax = g.ax_heatmap\n",
    "    ax.set_ylabel('Kinases')\n",
    "    ax.set_xlabel('Samples')\n",
    "    g.savefig(f'figures/{phospho_filename}_kea_up_top_var_heatmap.png', dpi=300, bbox_inches='tight')\n",
    "    g.savefig(f'figures/{phospho_filename}_kea_up_top_var_heatmap.svg', dpi=300, bbox_inches='tight')\n",
    "    display(FileLink(f'figures/{phospho_filename}_kea_up_top_var_heatmap.png', result_html_prefix='KEA3 Up Top 20 Variable Kinases Heatmap PNG: '))\n",
    "    display(FileLink(f'figures/{phospho_filename}_kea_up_top_var_heatmap.svg', result_html_prefix='KEA3 Up Top 20 Variable Kinases Heatmap SVG: '))"
   ]
  },
  {
   "cell_type": "markdown",
   "metadata": {},
   "source": [
    "#### Full KEA3 Heatmap - Down Phosphosites"
   ]
  },
  {
   "cell_type": "code",
   "execution_count": null,
   "metadata": {},
   "outputs": [],
   "source": [
    "if has_phospho_file:    \n",
    "    dn_kea_comb = pd.concat([kea_res[p]['down'] for p in kea_res], axis=1)\n",
    "    g = sns.clustermap(dn_kea_comb.astype(float), cmap=reds_reversed, center=0, xticklabels=False, yticklabels=False)\n",
    "    ax = g.ax_heatmap\n",
    "    ax.set_ylabel('Kinases')\n",
    "    ax.set_xlabel('Samples')\n",
    "    g.savefig(f'figures/{phospho_filename}_kea_dn_heatmap.png', dpi=300, bbox_inches='tight')\n",
    "    g.savefig(f'figures/{phospho_filename}_kea_dn_heatmap.svg', dpi=300, bbox_inches='tight')\n",
    "    display(FileLink(f'figures/{phospho_filename}_kea_dn_heatmap.png', result_html_prefix='KEA3 Down Heatmap PNG: '))\n",
    "    display(FileLink(f'figures/{phospho_filename}_kea_dn_heatmap.svg', result_html_prefix='KEA3 Down Heatmap SVG: '))"
   ]
  },
  {
   "cell_type": "markdown",
   "metadata": {},
   "source": [
    "#### KEA3 Heatmap Top 20 Variable Kinases - Down Phosphosites"
   ]
  },
  {
   "cell_type": "code",
   "execution_count": null,
   "metadata": {},
   "outputs": [],
   "source": [
    "if has_phospho_file:\n",
    "    top_20_var_kinases = dn_kea_comb.var(axis=1).sort_values(ascending=False).index[0:20]\n",
    "    g = sns.clustermap(dn_kea_comb.loc[top_20_var_kinases].astype(float), cmap=reds_reversed, center=0, xticklabels=False)\n",
    "    ax = g.ax_heatmap\n",
    "    ax.set_ylabel('Kinases')\n",
    "    ax.set_xlabel('Samples')\n",
    "    g.savefig(f'figures/{phospho_filename}_kea_dn_top_var_heatmap.png', dpi=300, bbox_inches='tight')\n",
    "    g.savefig(f'figures/{phospho_filename}_kea_dn_top_var_heatmap.svg', dpi=300, bbox_inches='tight')\n",
    "    display(FileLink(f'figures/{phospho_filename}_kea_dn_top_var_heatmap.png', result_html_prefix='KEA3 Down Top 20 Variable Kinases Heatmap PNG: '))\n",
    "    display(FileLink(f'figures/{phospho_filename}_kea_dn_top_var_heatmap.svg', result_html_prefix='KEA3 Down Top 20 Variable Kinases Heatmap SVG: '))"
   ]
  },
  {
   "cell_type": "markdown",
   "metadata": {},
   "source": [
    "### Transcriptomics + Phosphoproteomics\n",
    "#### Kinases enriched in both X2K and phospho- pipelines"
   ]
  },
  {
   "cell_type": "code",
   "execution_count": null,
   "metadata": {},
   "outputs": [],
   "source": [
    "if has_rna_file and has_phospho_file:\n",
    "    rank_threshold = 30\n",
    "\n",
    "    rec_kinases = {}\n",
    "    for id  in kea_res:\n",
    "        up = x2k_up[id].astype(float).sort_values(ascending=True).index.to_list()\n",
    "        up_phospho = kea_res[id]['up'].astype(float).sort_values(by='Score', ascending=True).index.to_list()\n",
    "        rec_kinases[id] = list(set(up[:rank_threshold]) & set(up_phospho[:rank_threshold]))\n",
    "    up_up_df = pd.DataFrame.from_dict(rec_kinases, orient='index').T\n",
    "    up_up_df.to_csv(f\"results/recovered_up_phospho_up_genes.csv\", index=False)\n",
    "\n",
    "    rec_kinases = {}\n",
    "    for id  in kea_res:\n",
    "        dn = x2k_dn[id].astype(float).sort_values(ascending=True).index.to_list()\n",
    "        dn_phospho = kea_res[id]['down'].astype(float).sort_values(by='Score', ascending=True).index.to_list()\n",
    "        rec_kinases[id] = list(set(dn[:rank_threshold]) & set(dn_phospho[:rank_threshold]))\n",
    "    dn_dn_df = pd.DataFrame.from_dict(rec_kinases, orient='index').T\n",
    "    dn_dn_df.to_csv(f\"results/recovered_dn_phospho_dn_genes.csv\", index=False)\n",
    "\n",
    "    rec_kinases = {}\n",
    "    for id in kea_res:\n",
    "        dn = x2k_dn[id].astype(float).sort_values(ascending=True).index.to_list()\n",
    "        up_phospho = kea_res[id]['up'].astype(float).sort_values(by='Score', ascending=True).index.to_list()\n",
    "        rec_kinases[id] = list(set(dn[:rank_threshold]) & set(up_phospho[:rank_threshold]))\n",
    "    up_dn_df = pd.DataFrame.from_dict(rec_kinases, orient='index').T\n",
    "    up_dn_df.to_csv(f\"results/recovered_up_phospho_dn_genes.csv\", index=False)\n",
    "\n",
    "    rec_kinases = {}\n",
    "    for id in kea_res:\n",
    "        up = x2k_up[id].astype(float).sort_values(ascending=True).index.to_list()\n",
    "        dn_phospho = kea_res[id]['down'].astype(float).sort_values(by='Score', ascending=True).index.to_list()\n",
    "        rec_kinases[id] = list(set(up[:rank_threshold]) & set(dn_phospho[:rank_threshold]))\n",
    "    dn_up_df = pd.DataFrame.from_dict(rec_kinases, orient='index').T\n",
    "    dn_up_df.to_csv(f\"results/recovered_dn_phospho_up_genes.csv\", index=False)"
   ]
  },
  {
   "cell_type": "code",
   "execution_count": null,
   "metadata": {},
   "outputs": [],
   "source": [
    "if has_rna_file and has_phospho_file:   \n",
    "    display(up_up_df.head())\n",
    "    display(FileLink(f\"results/recovered_up_phospho_up_genes.csv\", result_html_prefix='Download Recovered Kinases (up-up):'))"
   ]
  },
  {
   "cell_type": "code",
   "execution_count": null,
   "metadata": {},
   "outputs": [],
   "source": [
    "if has_rna_file and has_phospho_file:      \n",
    "    display(dn_dn_df.head())\n",
    "    display(FileLink(f\"results/recovered_dn_phospho_dn_genes.csv\", result_html_prefix='Download Recovered Kinases (down-down):'))"
   ]
  },
  {
   "cell_type": "code",
   "execution_count": null,
   "metadata": {},
   "outputs": [],
   "source": [
    "if has_rna_file and has_phospho_file:      \n",
    "    display(up_dn_df.head())\n",
    "    display(FileLink(f\"results/recovered_up_phospho_dn_genes.csv\", result_html_prefix='Download Recovered Kinases (up-down):'))"
   ]
  },
  {
   "cell_type": "code",
   "execution_count": null,
   "metadata": {},
   "outputs": [],
   "source": [
    "if has_rna_file and has_phospho_file:\n",
    "    display(dn_up_df.head())\n",
    "    display(FileLink(f\"results/recovered_dn_phospho_up_genes.csv\", result_html_prefix='Download Recovered Kinases (down-up):'))"
   ]
  },
  {
   "cell_type": "markdown",
   "metadata": {},
   "source": [
    "# PROTEOMICS\n",
    "\n",
    "Using the uploaded proetomic matrix, we can annotate the kinase and cell-surface protein targets we identified earlier in the pipeline to ensure they are also expressed at the protein level. "
   ]
  },
  {
   "cell_type": "code",
   "execution_count": null,
   "metadata": {},
   "outputs": [],
   "source": [
    "if has_prot_file:\n",
    "    percentages = []\n",
    "    idx = []\n",
    "    i = 0\n",
    "    for _, row in tqdm(prot_df.iterrows(), total=len(prot_df)):\n",
    "        value_counts = row.astype(float).isna().value_counts()\n",
    "        pr = value_counts[0]/len(row)\n",
    "        if pr > 0.8:\n",
    "            idx.append(i)\n",
    "        percentages.append(pr)\n",
    "        i += 1\n",
    "    ax = pd.Series(percentages).hist()\n",
    "    ax.set_ylabel(\"# Proteins\")\n",
    "    ax.set_xlabel(\"% with values\")"
   ]
  },
  {
   "cell_type": "code",
   "execution_count": null,
   "metadata": {},
   "outputs": [],
   "source": [
    "if has_prot_file:\n",
    "    prot_df_imputed = prot_df.iloc[idx].T.fillna(prot_df.iloc[idx].mean(axis=1)).T.astype(float)\n",
    "    zscored_prot = zscore(prot_df_imputed, axis=0)"
   ]
  },
  {
   "cell_type": "code",
   "execution_count": null,
   "metadata": {},
   "outputs": [],
   "source": [
    "if has_prot_file:\n",
    "    top_var_proteins = zscored_prot.var(axis=1).sort_values(ascending=False)\n",
    "    top_var_proteins_list = top_var_proteins.index[:100].tolist()\n",
    "    top_var_proteins.head(10)"
   ]
  },
  {
   "cell_type": "markdown",
   "metadata": {},
   "source": [
    "### Top 100 Proteins by Variance"
   ]
  },
  {
   "cell_type": "code",
   "execution_count": null,
   "metadata": {},
   "outputs": [],
   "source": [
    "if has_prot_file:\n",
    "    g = sns.clustermap(zscored_prot.loc[top_var_proteins_list], cmap='coolwarm', center=0, xticklabels=False, yticklabels=False)\n",
    "    ax = g.ax_heatmap\n",
    "    ax.set_ylabel('Top 100 Proteins by Variance')\n",
    "    ax.set_xlabel('Samples')\n",
    "    g.savefig(f'figures/{prot_filename}_top_var_proteins_heatmap.png', dpi=300, bbox_inches='tight')\n",
    "    g.savefig(f'figures/{prot_filename}_top_var_proteins_heatmap.svg', dpi=300, bbox_inches='tight')\n",
    "    display(FileLink(f'figures/{prot_filename}_top_var_proteins_heatmap.png', result_html_prefix='Most Variable Proteins Heatmap PNG: '))\n",
    "    display(FileLink(f'figures/{prot_filename}_top_var_proteins_heatmap.svg', result_html_prefix='Most Variable Proteins Heatmap SVG: '))"
   ]
  },
  {
   "cell_type": "markdown",
   "metadata": {},
   "source": [
    "### Annotated Cell-Surface Targets with Proetomic Expression"
   ]
  },
  {
   "cell_type": "code",
   "execution_count": null,
   "metadata": {},
   "outputs": [],
   "source": [
    "if has_rna_file and has_prot_file:\n",
    "    annot_data = []\n",
    "    for t in membrane_target_mat.index:\n",
    "        if t in zscored_prot.index:\n",
    "            row = []\n",
    "            for cluster in membrane_target_mat.columns:\n",
    "                c = cluster.split(' ')[1]\n",
    "                cluster_samples = list(leiden_df[leiden_df['leiden'] == c].index.values)\n",
    "                cluster_samples = list(set(cluster_samples).intersection(zscored_prot.columns))\n",
    "                clus_mean = (zscored_prot.loc[t][cluster_samples]).mean()\n",
    "                row.append(str(clus_mean)[0:4])\n",
    "            annot_data.append(row)\n",
    "        else:\n",
    "            annot_data.append(['NA']*membrane_target_mat.shape[1])\n",
    "    h = membrane_target_mat.shape[0]\n",
    "    g = sns.clustermap(membrane_target_mat, annot=annot_data, fmt='', figsize=(4,0.3*h+2*(h<15)), cmap=YlGnBu, cbar_pos=None, dendrogram_ratio=0.1-(h<40)*0.01*(h-30), row_cluster=False, xticklabels=True, yticklabels=True, standard_scale=1)\n",
    "    g.ax_row_dendrogram.legend(handles=[Rectangle((0, 0), 0, 0, color=val, label=key) for key, val in cmap.items()],\n",
    "                                    title='Background', loc='upper right')\n",
    "\n",
    "    plt.show()\n",
    "\n",
    "    g.savefig(f'figures/{rna_filename}_prot_membrane_target_matrix.png', dpi=300, bbox_inches='tight')\n",
    "    g.savefig(f'figures/{rna_filename}_prot_membrane_target_matrix.svg', dpi=300, bbox_inches='tight')\n",
    "    membrane_target_mat.to_csv(f'results/{rna_filename}_prot_membrane_target_mat.csv')\n",
    "\n",
    "    display(FileLink(f'results/{rna_filename}_prot_membrane_target_mat.csv', result_html_prefix='Download Membrane Target Matrix: '))\n",
    "    display(FileLink(f'figures/{rna_filename}_prot_membrane_target_matrix.png', result_html_prefix='Membrane Target Matrix PNG: '))\n",
    "    display(FileLink(f'figures/{rna_filename}_prot_membrane_target_matrix.svg', result_html_prefix='Membrane Target Matrix SVG: '))\n"
   ]
  }
 ],
 "metadata": {
  "kernelspec": {
   "display_name": "venv",
   "language": "python",
   "name": "python3"
  },
  "language_info": {
   "codemirror_mode": {
    "name": "ipython",
    "version": 3
   },
   "file_extension": ".py",
   "mimetype": "text/x-python",
   "name": "python",
   "nbconvert_exporter": "python",
   "pygments_lexer": "ipython3",
   "version": "3.10.13"
  }
 },
 "nbformat": 4,
 "nbformat_minor": 2
}
