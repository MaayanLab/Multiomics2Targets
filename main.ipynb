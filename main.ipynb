{
 "cells": [
  {
   "cell_type": "code",
   "execution_count": 2,
   "metadata": {},
   "outputs": [],
   "source": [
    "#%%appyter init\n",
    "from appyter import magic\n",
    "magic.init(lambda _=globals: _())"
   ]
  },
  {
   "cell_type": "code",
   "execution_count": 3,
   "metadata": {},
   "outputs": [],
   "source": [
    "%%appyter hide_code\n",
    "\n",
    "{% do SectionField(\n",
    "    name='primary',\n",
    "    title='X2KTR (Expression to Kinases & Target Ranger)',\n",
    ") %}\n",
    "\n",
    "{% do DescriptionField(\n",
    "    name='data_file_description',\n",
    "    text='''\n",
    "    Files should be a tsv/csv of the form:<br />\n",
    "    <table class=\"table\">\n",
    "    <tr>\n",
    "      <td>&nbsp;</td>\n",
    "      <th>Patient 1 Tumor</th>\n",
    "      <th>Patient 2 Tumor</th>\n",
    "      <th>...</th>\n",
    "    </tr>\n",
    "    <tr>\n",
    "      <th>Gene</th>\n",
    "      <td>0</td>\n",
    "      <td>200</td>\n",
    "      <td>...</td>\n",
    "    </tr>\n",
    "    <tr>\n",
    "      <th>Gene</th>\n",
    "      <td>5</td>\n",
    "      <td>180</td>\n",
    "      <td>...</td>\n",
    "    </tr>\n",
    "    <tr>\n",
    "      <th>...</th>\n",
    "      <td>...</td>\n",
    "      <td>...</td>\n",
    "      <td>...</td>\n",
    "    </tr>\n",
    "    </table>''',\n",
    "    section='primary',\n",
    ") %}\n",
    "\n",
    "{% set rna_file = FileField(\n",
    "    name='rna_expr',\n",
    "    label='RNA-seq tumor expression',\n",
    "    description='Gene on the rows, samples on the columns',\n",
    "    default='CPTAC3_HNSCC_tumor_counts.tsv',\n",
    "    required=False,\n",
    "    examples={\n",
    "        'CPTAC3_HNSCC_tumor_counts.tsv': 'https://minio.dev.maayanlab.cloud/x2k-tr/CPTAC3_HNSCC_tumor_counts.tsv',\n",
    "    },\n",
    "    section='primary',\n",
    ") %}\n",
    "\n",
    "\n",
    "{% set prot_file = FileField(\n",
    "    name='prot_expr',\n",
    "    label='Protein tumor expression',\n",
    "    description='Gene on the rows, samples on the columns',\n",
    "    default='HNSCC_proteomics_tumor.tsv',\n",
    "    required=False,\n",
    "    examples={\n",
    "        'HNSCC_proteomics_tumor.tsv': 'https://minio.dev.maayanlab.cloud/x2k-tr/HNSCC_proteomics_gene_abundance_log2_reference_intensity_normalized_Tumor.tsv',\n",
    "    },\n",
    "    section='primary',\n",
    ") %}\n",
    "\n",
    "{% set impute_protein_expr = BoolField(\n",
    "    name='impute_protein_expr',\n",
    "    label='Impute protein expression (averages)',\n",
    "    default=True,\n",
    "    section='primary',\n",
    ") %}\n",
    "\n",
    "{% set phospho_file = FileField(\n",
    "    name='phospho_expr',\n",
    "    label='Tumor protein phosphorylation',\n",
    "    description='Phosphoproteins on the rows, samples on the columns',\n",
    "    default='HSNCC_phospho_observed.tsv',\n",
    "    required=False,\n",
    "    examples={\n",
    "        'HSNCC_phospho_observed.tsv': 'https://minio.dev.maayanlab.cloud/x2k-tr/HSNCC_phospho_observed.tsv',\n",
    "    },\n",
    "    section='primary',\n",
    ") %}\n",
    "\n",
    "{% set impute_phospho_expr = BoolField(\n",
    "    name='impute_phospho_expr',\n",
    "    label='Impute protein phosphorylation (averages)',\n",
    "    default=True,\n",
    "    section='primary',\n",
    ") %}\n",
    "\n",
    "{% set meta_file = FileField(\n",
    "    name='meta',\n",
    "    label='Sample metadata',\n",
    "    description='Samples on the rows, metadata on the columns',\n",
    "    default='HNSCC_meta.txt',\n",
    "    required=True,\n",
    "    examples={\n",
    "        'HNSCC_meta.txt': 'https://minio.dev.maayanlab.cloud/x2k-tr/HNSCC_meta.txt',\n",
    "    },\n",
    "    section='primary',\n",
    ") %}\n",
    "\n",
    "{% set membrane_screener_ = TabField(\n",
    "    name='membrane_screener',\n",
    "    label='Prioritize membrane genes',\n",
    "    description='Use a list of genes that encode cell surface proteins to identify membrane. Only human currently supported.',\n",
    "    default='Yes',\n",
    "    section='primary',\n",
    "    choices={\n",
    "     'Yes': [\n",
    "        ChoiceField(\n",
    "                name='membrane_list',\n",
    "                label='Membrane gene list',\n",
    "                description='Choose the source for list of membrane genes.',\n",
    "                choices={\n",
    "                    'COMPARTMENTS + Human Protein Atlas': \"'https://appyters.maayanlab.cloud/storage/Tumor_Gene_Target_Screener/surfaceome.csv'\",\n",
    "                    'Membranome': \"'https://lomize-group-membranome.herokuapp.com/proteins?fileFormat=csv'\",\n",
    "                },\n",
    "                default='COMPARTMENTS + Human Protein Atlas',\n",
    "            ),\n",
    "    ],\n",
    "    'No': [\n",
    "    ]\n",
    "    }\n",
    ") %}\n",
    "\n",
    "{% set membrane_screener_list = membrane_screener_.value[0] %}\n",
    "\n",
    "{% set membrane_screener = membrane_screener_.raw_value == 'Yes' %}\n",
    "\n",
    "{% set normalize_to_background = BoolField(\n",
    "    name='normalize_to_background',\n",
    "    label='Normalize to background distribution (Target Identification)',\n",
    "    default=True,\n",
    "    section='primary',\n",
    ") %}"
   ]
  },
  {
   "cell_type": "code",
   "execution_count": 62,
   "metadata": {},
   "outputs": [],
   "source": [
    "from helpers import *\n",
    "import os\n",
    "import re\n",
    "import qnorm\n",
    "from tqdm import tqdm\n",
    "import numpy as np\n",
    "import pandas as pd\n",
    "\n",
    "from matplotlib import cm\n",
    "from matplotlib.patches import Rectangle\n",
    "import matplotlib.pyplot as plt\n",
    "import seaborn as sns\n",
    "\n",
    "from IPython.display import HTML, display, Markdown, FileLink\n",
    "from matplotlib.gridspec import GridSpec\n",
    "from matplotlib_venn import venn2\n",
    "from maayanlab_bioinformatics.normalization import zscore_normalize, log2_normalize\n",
    "from scipy.stats import zscore\n",
    "from maayanlab_bioinformatics.dge import limma_voom_differential_expression\n",
    "from maayanlab_bioinformatics.harmonization.ncbi_genes import ncbi_genes_lookup\n",
    "\n",
    "os.makedirs('results', exist_ok=True)\n",
    "os.makedirs('figures', exist_ok=True)\n",
    "\n",
    "lookup = ncbi_genes_lookup(organism='Mammalia/Homo_sapiens')\n",
    "\n",
    "import sys\n",
    "import contextlib\n",
    "@contextlib.contextmanager\n",
    "def suppress_output(stdout=True, stderr=True, dest=os.devnull):\n",
    "    ''' Usage:\n",
    "    with suppress_output():\n",
    "        print('hi')\n",
    "    '''\n",
    "    dev_null = open(dest, 'a')\n",
    "    if stdout:\n",
    "        _stdout = sys.stdout\n",
    "        sys.stdout = dev_null\n",
    "    if stderr:\n",
    "        _stderr = sys.stderr\n",
    "        sys.stderr = dev_null\n",
    "    try:\n",
    "        yield\n",
    "    finally:\n",
    "        if stdout:\n",
    "            sys.stdout = _stdout\n",
    "        if stderr:\n",
    "            sys.stderr = _stderr"
   ]
  },
  {
   "cell_type": "code",
   "execution_count": 5,
   "metadata": {},
   "outputs": [
    {
     "data": {
      "text/markdown": [
       "```python\n",
       "has_rna_file = 'CPTAC3_HNSCC_tumor_counts.tsv' != ''\n",
       "has_prot_file = 'HNSCC_proteomics_tumor.tsv' != ''\n",
       "has_phospho_file = 'HSNCC_phospho_observed.tsv' != ''\n",
       "has_meta_file = 'HNSCC_meta.txt' != ''\n",
       "```"
      ],
      "text/plain": [
       "<IPython.core.display.Markdown object>"
      ]
     },
     "metadata": {},
     "output_type": "display_data"
    }
   ],
   "source": [
    "%%appyter code_exec\n",
    "has_rna_file = {{ rna_file }} != ''\n",
    "has_prot_file = {{ prot_file }} != ''\n",
    "has_phospho_file = {{ phospho_file }} != ''\n",
    "has_meta_file = {{ meta_file }} != ''"
   ]
  },
  {
   "cell_type": "code",
   "execution_count": 9,
   "metadata": {},
   "outputs": [
    {
     "data": {
      "text/markdown": [
       "```python\n",
       "if has_rna_file:\n",
       "    rna_df = read_table('CPTAC3_HNSCC_tumor_counts.tsv')\n",
       "    rna_filename = 'CPTAC3_HNSCC_tumor_counts.tsv'.split('.')[0]\n",
       "if has_prot_file:\n",
       "    prot_df = read_table('HNSCC_proteomics_tumor.tsv')\n",
       "    prot_filename = 'HNSCC_proteomics_tumor.tsv'.split('.')[0]\n",
       "if has_phospho_file:\n",
       "    phospho_df = read_table('HSNCC_phospho_observed.tsv')\n",
       "    phospho_filename = 'HSNCC_phospho_observed.tsv'.split('.')[0]\n",
       "if has_meta_file:\n",
       "    meta_df = read_table('HNSCC_meta.txt')\n",
       "```"
      ],
      "text/plain": [
       "<IPython.core.display.Markdown object>"
      ]
     },
     "metadata": {},
     "output_type": "display_data"
    }
   ],
   "source": [
    "%%appyter code_exec\n",
    "\n",
    "if has_rna_file:\n",
    "    rna_df = read_table({{ rna_file }})\n",
    "    rna_filename = {{ rna_file }}.split('.')[0]\n",
    "if has_prot_file:\n",
    "    prot_df = read_table({{ prot_file }})\n",
    "    prot_filename = {{ prot_file }}.split('.')[0]\n",
    "if has_phospho_file:\n",
    "    phospho_df = read_table({{ phospho_file }})\n",
    "    phospho_filename = {{ phospho_file }}.split('.')[0]\n",
    "if has_meta_file:\n",
    "    meta_df = read_table({{ meta_file }})"
   ]
  },
  {
   "cell_type": "code",
   "execution_count": 10,
   "metadata": {},
   "outputs": [],
   "source": [
    "rna_df.index = rna_df.index.map(lambda g: g.split('.')[0])\n",
    "rna_df.index = rna_df.index.map(lambda g: lookup(g) if lookup(g) else g)"
   ]
  },
  {
   "cell_type": "code",
   "execution_count": 6,
   "metadata": {},
   "outputs": [
    {
     "name": "stderr",
     "output_type": "stream",
     "text": [
      "/Users/giacomomarino/X2KTR/venv/lib/python3.10/site-packages/scanpy/preprocessing/_pca.py:314: ImplicitModificationWarning: Setting element `.obsm['X_pca']` of view, initializing view as actual.\n",
      "  adata.obsm[\"X_pca\"] = X_pca\n",
      "/Users/giacomomarino/X2KTR/venv/lib/python3.10/site-packages/tqdm/auto.py:21: TqdmWarning: IProgress not found. Please update jupyter and ipywidgets. See https://ipywidgets.readthedocs.io/en/stable/user_install.html\n",
      "  from .autonotebook import tqdm as notebook_tqdm\n",
      "/Users/giacomomarino/X2KTR/venv/lib/python3.10/site-packages/umap/umap_.py:1394: RuntimeWarning: divide by zero encountered in power\n",
      "  return 1.0 / (1.0 + a * x ** (2 * b))\n"
     ]
    },
    {
     "data": {
      "image/png": "[encoded data removed]",
      "text/plain": [
       "<Figure size 640x480 with 1 Axes>"
      ]
     },
     "metadata": {},
     "output_type": "display_data"
    }
   ],
   "source": [
    "import scanpy as sc\n",
    "adata = sc.AnnData(log2_normalize(rna_df.T.values), dtype=\"int\")\n",
    "adata.var['gene_names'] = rna_df.index.values\n",
    "adata.obs['samples'] = rna_df.columns.values\n",
    "# Sort genes by variance\n",
    "adata.var['var_rank'] = (-np.var(adata.X, axis=0, dtype=\"float\")).argsort()\n",
    "adata = adata[:, adata.var.var_rank < 1000]\n",
    "\n",
    "min_dist=0.01\n",
    "n_neighbors=15\n",
    "resolution=1\n",
    "# UMAP\n",
    "sc.pp.pca(adata)\n",
    "sc.pp.neighbors(adata, n_neighbors=n_neighbors)  # create neighborhood graph\n",
    "sc.tl.umap(adata, min_dist=min_dist, spread=5, alpha=0.1)  # embed umap based on neighborhood graph\n",
    "sc.tl.leiden(adata, resolution=resolution)  # clustering\n",
    "sc.pl.umap(adata, color=\"leiden\", size=80)"
   ]
  },
  {
   "cell_type": "code",
   "execution_count": 160,
   "metadata": {},
   "outputs": [
    {
     "data": {
      "text/plain": [
       "leiden\n",
       "0         26\n",
       "1         23\n",
       "2         21\n",
       "3         21\n",
       "4         19\n",
       "Name: count, dtype: int64"
      ]
     },
     "metadata": {},
     "output_type": "display_data"
    }
   ],
   "source": [
    "leiden_df = pd.DataFrame([adata.obs['leiden'], adata.obs['samples']]).T.set_index('samples')\n",
    "clusters = list(leiden_df['leiden'].unique())\n",
    "leiden_df.value_counts()"
   ]
  },
  {
   "cell_type": "code",
   "execution_count": 8,
   "metadata": {},
   "outputs": [
    {
     "data": {
      "text/markdown": [
       "\n",
       "## Load Membrane Proteins for Screening\n",
       "\n",
       "Membrane proteins are ideal targets. This membrane/surface protein filter was created from the intersection of two data sources:\n",
       "[COMPARTMENTS](https://compartments.jensenlab.org/About) knowledge predictions for human genes where a filter was applied for \"Plasma membrane\" and \"Cell surface\" subcellular localization with a confidence score greater than or equal to 3 and [Human Protein Atlas](https://www.proteinatlas.org/) membrane proteins where a filter was applied for \"Evidence at protein level\" and removal of genes with \"Low tissue specificity.\"\n",
       "\n"
      ],
      "text/plain": [
       "<IPython.core.display.Markdown object>"
      ]
     },
     "metadata": {},
     "output_type": "display_data"
    }
   ],
   "source": [
    "%%appyter markdown\n",
    "{% if membrane_screener %}\n",
    "## Load Membrane Proteins for Screening\n",
    "{% if membrane_screener_list.raw_value == 'Membranome' %}\n",
    "Membrane proteins are ideal targets, we can get these from [Membranome](https://membranome.org/) among other places.\n",
    "{% else %}\n",
    "Membrane proteins are ideal targets. This membrane/surface protein filter was created from the intersection of two data sources:\n",
    "[COMPARTMENTS](https://compartments.jensenlab.org/About) knowledge predictions for human genes where a filter was applied for \"Plasma membrane\" and \"Cell surface\" subcellular localization with a confidence score greater than or equal to 3 and [Human Protein Atlas](https://www.proteinatlas.org/) membrane proteins where a filter was applied for \"Evidence at protein level\" and removal of genes with \"Low tissue specificity.\"\n",
    "{% endif %}\n",
    "{% endif %}"
   ]
  },
  {
   "cell_type": "code",
   "execution_count": 90,
   "metadata": {},
   "outputs": [
    {
     "data": {
      "text/markdown": [
       "```python\n",
       "proteins = pd.read_csv('https://appyters.maayanlab.cloud/storage/Tumor_Gene_Target_Screener/surfaceome.csv')\n",
       "membrane_proteins = list(proteins['genename'].map(lookup).dropna().values)\n",
       "```"
      ],
      "text/plain": [
       "<IPython.core.display.Markdown object>"
      ]
     },
     "metadata": {},
     "output_type": "display_data"
    }
   ],
   "source": [
    "%%appyter code_exec\n",
    "{% if membrane_screener %}\n",
    "proteins = pd.read_csv({{ membrane_screener_list }})\n",
    "{% if membrane_screener_list.raw_value == 'Membranome' %}\n",
    "proteins = proteins[proteins['species_name_cache'] == 'Homo sapiens']\n",
    "{% endif %}\n",
    "membrane_proteins = list(proteins['genename'].map(lookup).dropna().values)\n",
    "{% endif %}"
   ]
  },
  {
   "cell_type": "code",
   "execution_count": 138,
   "metadata": {},
   "outputs": [
    {
     "name": "stdout",
     "output_type": "stream",
     "text": [
      "Finding Targets using GTEx\n"
     ]
    },
    {
     "name": "stderr",
     "output_type": "stream",
     "text": [
      "100%|██████████| 5/5 [00:41<00:00,  8.29s/it]\n"
     ]
    },
    {
     "name": "stdout",
     "output_type": "stream",
     "text": [
      "Finding Targets using ARCHS4\n"
     ]
    },
    {
     "name": "stderr",
     "output_type": "stream",
     "text": [
      "100%|██████████| 5/5 [03:32<00:00, 42.49s/it]\n"
     ]
    },
    {
     "name": "stdout",
     "output_type": "stream",
     "text": [
      "Finding Targets using TS\n"
     ]
    },
    {
     "name": "stderr",
     "output_type": "stream",
     "text": [
      "100%|██████████| 5/5 [04:20<00:00, 52.19s/it]\n"
     ]
    }
   ],
   "source": [
    "targets = {}\n",
    "bgs = {'GTEx': 'gtex-gene-stats.tsv', 'ARCHS4': 'archs4-gene-stats.tsv', 'TS': 'ts_10x_cell-ontology-class_donors_tissue-labels_v1.tsv'}\n",
    "for bg in bgs:\n",
    "    print('Finding Targets using', bg)\n",
    "    df_bg_stats = pd.read_csv(f\"https://appyters.maayanlab.cloud/storage/Tumor_Gene_Target_Screener/{bgs[bg]}\", sep='\\t', index_col=[0,1])\n",
    "    df_bg_genes = df_bg_stats.unstack().index.map(lambda idx: lookup(idx.partition('.')[0]))\n",
    "    df_bg_stats = df_bg_stats.unstack().groupby(df_bg_genes, observed=True).median().stack()\n",
    "    df_bg_expr = df_bg_stats.loc[(slice(None), ['25%', '50%', '75%']), :].unstack()\n",
    "    common_index = list(set(rna_df.index) & set(df_bg_expr.index))\n",
    "    target_distribution = df_bg_expr.loc[common_index, :].median(axis=1)\n",
    "    expr_df = rna_df.loc[common_index, :]\n",
    "    expr_df.reset_index(inplace=True)\n",
    "    expr_df.drop_duplicates(subset='gene_id', inplace=True)\n",
    "    expr_df.set_index('gene_id', inplace=True, drop=True)\n",
    "    df_expr_norm = qnorm.quantile_normalize(expr_df.loc[common_index, :], target=target_distribution)\n",
    "    df_bg_expr_norm = qnorm.quantile_normalize(df_bg_expr.loc[common_index, :], target=target_distribution)\n",
    "    for cluster in tqdm(clusters):\n",
    "        if cluster not in targets: targets[cluster] = {}\n",
    "        cluster_samples = list(leiden_df[leiden_df['leiden'] == cluster].index.values)\n",
    "        with suppress_output():\n",
    "            df_bg_expr_norm.columns = df_bg_expr_norm.columns.to_flat_index().map(lambda s: ', '.join(s))\n",
    "            dge = limma_voom_differential_expression(\n",
    "                df_bg_expr_norm, df_expr_norm[cluster_samples],\n",
    "                voom_design=True,\n",
    "            )\n",
    "            targets[cluster][bg] = dge[(dge['adj.P.Val'] < 0.01) & (dge['t'] > 0)].sort_values('t', ascending=False).index.values "
   ]
  },
  {
   "cell_type": "code",
   "execution_count": 187,
   "metadata": {},
   "outputs": [
    {
     "data": {
      "text/markdown": [
       "```python\n",
       "YlGnBu = cm.get_cmap('YlGnBu_r', 8)\n",
       "cmap = {\"None\":YlGnBu(0), \"ARCHS4\": YlGnBu(1), \"GTEx\":YlGnBu(2), \"TS\": YlGnBu(4), \"ARCHS4-GTEx\":YlGnBu(3),  \"ARCHS4-TS\": YlGnBu(5), \"GTEx-TS\": YlGnBu(6), \"All\": YlGnBu(7)}\n",
       "top_targets_n = 100\n",
       "target_list = []\n",
       "for cluster in targets:\n",
       "    for bg in targets[cluster]:\n",
       "        target_list.extend(list(filter(lambda g: g in membrane_proteins, targets[cluster][bg][:top_targets_n])))\n",
       "data1, data2, data3 = [], [], []\n",
       "similarity = []\n",
       "target_list = list(set(target_list))\n",
       "for gene in target_list:\n",
       "    a = [1 if gene in targets[c]['ARCHS4'][:top_targets_n] else 0 for c in clusters]\n",
       "    g = [2 if gene in targets[c]['GTEx'][:top_targets_n] else 0 for c in clusters]\n",
       "    l = [4 if gene in targets[c]['TS'][:top_targets_n] else 0 for c in clusters]\n",
       "    data1.append(a)\n",
       "    data2.append(g)\n",
       "    data3.append(l)\n",
       "    similarity.append(np.dot(np.dot(np.array(a), np.array(g)), np.array(l)))\n",
       "data = np.add(np.add(data1, data2), data3)\n",
       "membrane_target_mat = pd.DataFrame(data)\n",
       "membrane_target_mat.columns = [f\"Cluster {c}\" for c in clusters]\n",
       "membrane_target_mat.index = target_list\n",
       "membrane_target_mat['count'] = membrane_target_mat.sum(axis=1)\n",
       "membrane_target_mat = membrane_target_mat[membrane_target_mat['count'] >= 7]\n",
       "membrane_target_mat = membrane_target_mat.rename_axis('Membrane Target').sort_values(by = ['count', 'Membrane Target'], ascending = [False, True]).drop('count', axis=1)\n",
       "h = membrane_target_mat.shape[0]\n",
       "g = sns.clustermap(membrane_target_mat, figsize=(4,0.3*h+2*(h<15)), cmap=YlGnBu, cbar_pos=None, dendrogram_ratio=0.1-(h<40)*0.01*(h-30), row_cluster=False, xticklabels=True, yticklabels=True, standard_scale=1)\n",
       "g.ax_row_dendrogram.legend(handles=[Rectangle((0, 0), 0, 0, color=val, label=key) for key, val in cmap.items()],\n",
       "                                title='Background', loc='upper right')\n",
       "plt.show()\n",
       "g.savefig(f'figures/{rna_filename}_membrane_target_matrix.png', dpi=300, bbox_inches='tight')\n",
       "g.savefig(f'figures/{rna_filename}_membrane_target_matrix.svg', dpi=300, bbox_inches='tight')\n",
       "membrane_target_mat.to_csv(f'results/{rna_filename}_membrane_target_mat.csv')\n",
       "display(FileLink(f'results/{rna_filename}_membrane_target_mat.csv', result_html_prefix='Download Membrane Target Matrix: '))\n",
       "display(FileLink(f'figures/{rna_filename}_membrane_target_matrix.png', result_html_prefix='Membrane Target Matrix PNG: '))\n",
       "display(FileLink(f'figures/{rna_filename}_membrane_target_matrix.svg', result_html_prefix='Membrane Target Matrix SVG: '))\n",
       "```"
      ],
      "text/plain": [
       "<IPython.core.display.Markdown object>"
      ]
     },
     "metadata": {},
     "output_type": "display_data"
    },
    {
     "name": "stderr",
     "output_type": "stream",
     "text": [
      "<string>:1: MatplotlibDeprecationWarning: The get_cmap function was deprecated in Matplotlib 3.7 and will be removed two minor releases later. Use ``matplotlib.colormaps[name]`` or ``matplotlib.colormaps.get_cmap(obj)`` instead.\n"
     ]
    },
    {
     "data": {
      "image/png": "[encoded data removed]",
      "text/plain": [
       "<Figure size 400x660 with 3 Axes>"
      ]
     },
     "metadata": {},
     "output_type": "display_data"
    },
    {
     "data": {
      "text/html": [
       "Download Membrane Target Matrix: <a href='results/CPTAC3_HNSCC_tumor_counts_membrane_target_mat.csv' target='_blank'>results/CPTAC3_HNSCC_tumor_counts_membrane_target_mat.csv</a><br>"
      ],
      "text/plain": [
       "/Users/giacomomarino/X2KTR/results/CPTAC3_HNSCC_tumor_counts_membrane_target_mat.csv"
      ]
     },
     "metadata": {},
     "output_type": "display_data"
    },
    {
     "data": {
      "text/html": [
       "Membrane Target Matrix PNG: <a href='figures/CPTAC3_HNSCC_tumor_counts_membrane_target_matrix.png' target='_blank'>figures/CPTAC3_HNSCC_tumor_counts_membrane_target_matrix.png</a><br>"
      ],
      "text/plain": [
       "/Users/giacomomarino/X2KTR/figures/CPTAC3_HNSCC_tumor_counts_membrane_target_matrix.png"
      ]
     },
     "metadata": {},
     "output_type": "display_data"
    },
    {
     "data": {
      "text/html": [
       "Membrane Target Matrix SVG: <a href='figures/CPTAC3_HNSCC_tumor_counts_membrane_target_matrix.svg' target='_blank'>figures/CPTAC3_HNSCC_tumor_counts_membrane_target_matrix.svg</a><br>"
      ],
      "text/plain": [
       "/Users/giacomomarino/X2KTR/figures/CPTAC3_HNSCC_tumor_counts_membrane_target_matrix.svg"
      ]
     },
     "metadata": {},
     "output_type": "display_data"
    }
   ],
   "source": [
    "%%appyter code_exec\n",
    "YlGnBu = cm.get_cmap('YlGnBu_r', 8)\n",
    "cmap = {\"None\":YlGnBu(0), \"ARCHS4\": YlGnBu(1), \"GTEx\":YlGnBu(2), \"TS\": YlGnBu(4), \"ARCHS4-GTEx\":YlGnBu(3),  \"ARCHS4-TS\": YlGnBu(5), \"GTEx-TS\": YlGnBu(6), \"All\": YlGnBu(7)}\n",
    "\n",
    "top_targets_n = 100\n",
    "target_list = []\n",
    "for cluster in targets:\n",
    "    for bg in targets[cluster]:\n",
    "        target_list.extend(list(filter(lambda g: g in membrane_proteins, targets[cluster][bg][:top_targets_n])))\n",
    "data1, data2, data3 = [], [], []\n",
    "similarity = []\n",
    "target_list = list(set(target_list))\n",
    "\n",
    "for gene in target_list:\n",
    "    a = [1 if gene in targets[c]['ARCHS4'][:top_targets_n] else 0 for c in clusters]\n",
    "    g = [2 if gene in targets[c]['GTEx'][:top_targets_n] else 0 for c in clusters]\n",
    "    l = [4 if gene in targets[c]['TS'][:top_targets_n] else 0 for c in clusters]\n",
    "    data1.append(a)\n",
    "    data2.append(g)\n",
    "    data3.append(l)\n",
    "    similarity.append(np.dot(np.dot(np.array(a), np.array(g)), np.array(l)))\n",
    "\n",
    "data = np.add(np.add(data1, data2), data3)\n",
    "\n",
    "membrane_target_mat = pd.DataFrame(data)\n",
    "membrane_target_mat.columns = [f\"Cluster {c}\" for c in clusters]\n",
    "membrane_target_mat.index = target_list\n",
    "\n",
    "membrane_target_mat['count'] = membrane_target_mat.sum(axis=1)\n",
    "membrane_target_mat = membrane_target_mat[membrane_target_mat['count'] >= 7]\n",
    "membrane_target_mat = membrane_target_mat.rename_axis('Membrane Target').sort_values(by = ['count', 'Membrane Target'], ascending = [False, True]).drop('count', axis=1)\n",
    "\n",
    "h = membrane_target_mat.shape[0]\n",
    "\n",
    "\n",
    "\n",
    "g = sns.clustermap(membrane_target_mat, figsize=(4,0.3*h+2*(h<15)), cmap=YlGnBu, cbar_pos=None, dendrogram_ratio=0.1-(h<40)*0.01*(h-30), row_cluster=False, xticklabels=True, yticklabels=True, standard_scale=1)\n",
    "g.ax_row_dendrogram.legend(handles=[Rectangle((0, 0), 0, 0, color=val, label=key) for key, val in cmap.items()],\n",
    "                                title='Background', loc='upper right')\n",
    "\n",
    "plt.show()\n",
    "\n",
    "g.savefig(f'figures/{rna_filename}_membrane_target_matrix.png', dpi=300, bbox_inches='tight')\n",
    "g.savefig(f'figures/{rna_filename}_membrane_target_matrix.svg', dpi=300, bbox_inches='tight')\n",
    "membrane_target_mat.to_csv(f'results/{rna_filename}_membrane_target_mat.csv')\n",
    "\n",
    "display(FileLink(f'results/{rna_filename}_membrane_target_mat.csv', result_html_prefix='Download Membrane Target Matrix: '))\n",
    "display(FileLink(f'figures/{rna_filename}_membrane_target_matrix.png', result_html_prefix='Membrane Target Matrix PNG: '))\n",
    "display(FileLink(f'figures/{rna_filename}_membrane_target_matrix.svg', result_html_prefix='Membrane Target Matrix SVG: '))\n"
   ]
  },
  {
   "cell_type": "code",
   "execution_count": 69,
   "metadata": {},
   "outputs": [
    {
     "name": "stderr",
     "output_type": "stream",
     "text": [
      "100%|██████████| 11561/11561 [00:01<00:00, 8880.77it/s]\n"
     ]
    },
    {
     "data": {
      "text/plain": [
       "Text(0.5, 0, '% with values')"
      ]
     },
     "execution_count": 69,
     "metadata": {},
     "output_type": "execute_result"
    },
    {
     "data": {
      "image/png": "[encoded data removed]",
      "text/plain": [
       "<Figure size 640x480 with 1 Axes>"
      ]
     },
     "metadata": {},
     "output_type": "display_data"
    }
   ],
   "source": [
    "percentages = []\n",
    "idx = []\n",
    "i = 0\n",
    "for _, row in tqdm(prot_df.iterrows(), total=len(prot_df)):\n",
    "    value_counts = row.astype(float).isna().value_counts()\n",
    "    pr = value_counts[0]/len(row)\n",
    "    if pr > 0.8:\n",
    "        idx.append(i)\n",
    "    percentages.append(pr)\n",
    "    i += 1\n",
    "ax = pd.Series(percentages).hist()\n",
    "ax.set_ylabel(\"# Proteins\")\n",
    "ax.set_xlabel(\"% with values\")"
   ]
  },
  {
   "cell_type": "code",
   "execution_count": null,
   "metadata": {},
   "outputs": [],
   "source": [
    "prot_df_imputed = prot_df.iloc[idx].T.fillna(prot_df.iloc[idx].mean(axis=1)).T.astype(float)\n",
    "zscored_prot = zscore(prot_df_imputed, axis=1)"
   ]
  },
  {
   "cell_type": "code",
   "execution_count": null,
   "metadata": {},
   "outputs": [],
   "source": [
    "rna_df_log2_zscore = zscore(log2_normalize(rna_df), axis=1)"
   ]
  },
  {
   "cell_type": "code",
   "execution_count": null,
   "metadata": {},
   "outputs": [],
   "source": [
    "up_down_genes = {}\n",
    "for patient in tqdm(rna_df_log2_zscore.columns.values):\n",
    "    up_down_genes[patient] = {}\n",
    "    down_rows = rna_df_log2_zscore[patient][(rna_df_log2_zscore[patient] < -1.96)].sort_values(ascending=True)[:500]\n",
    "    up_rows = rna_df_log2_zscore[patient][(rna_df_log2_zscore[patient] > 1.96)].sort_values(ascending=False)[:500]\n",
    "\n",
    "    down_genes = list(set(down_rows.index.map(lambda g: lookup(g.split('.')[0]) if lookup(g.split('.')[0]) else g.split('.')[0])))\n",
    "    up_genes = list(set(up_rows.index.map(lambda g: lookup(g.split('.')[0]) if lookup(g.split('.')[0]) else g.split('.')[0])))\n",
    "\n",
    "    chea_down = get_chea3_results(down_genes, f'{patient}_down_genes')\n",
    "    chea_up = get_chea3_results(up_genes, f'{patient}_up_genes')\n",
    "    up_down_genes[patient]['down'] = chea_down\n",
    "    up_down_genes[patient]['up'] = chea_up"
   ]
  },
  {
   "cell_type": "code",
   "execution_count": 14,
   "metadata": {},
   "outputs": [
    {
     "name": "stderr",
     "output_type": "stream",
     "text": [
      "100%|██████████| 55271/55271 [00:05<00:00, 9268.03it/s]\n"
     ]
    },
    {
     "data": {
      "text/plain": [
       "Text(0.5, 0, '% with values')"
      ]
     },
     "execution_count": 14,
     "metadata": {},
     "output_type": "execute_result"
    },
    {
     "data": {
      "image/png": "[encoded data removed]",
      "text/plain": [
       "<Figure size 640x480 with 1 Axes>"
      ]
     },
     "metadata": {},
     "output_type": "display_data"
    }
   ],
   "source": [
    "percentages = []\n",
    "idx = []\n",
    "i = 0\n",
    "for _, row in tqdm(phospho_df.iterrows(), total=len(phospho_df)):\n",
    "    value_counts = row.astype(float).isna().value_counts()\n",
    "    pr = value_counts[0]/len(row)\n",
    "    if pr > 0.8:\n",
    "        idx.append(i)\n",
    "    percentages.append(pr)\n",
    "    i += 1\n",
    "ax = pd.Series(percentages).hist()\n",
    "ax.set_ylabel(\"# Phosphosites\")\n",
    "ax.set_xlabel(\"% with values\")"
   ]
  },
  {
   "cell_type": "code",
   "execution_count": 26,
   "metadata": {},
   "outputs": [],
   "source": [
    "phospho_df_imputed = phospho_df.iloc[idx].T.fillna(phospho_df.iloc[idx].mean(axis=1)).T.astype(float)\n",
    "zscored_phospho = zscore(phospho_df_imputed, axis=1)"
   ]
  },
  {
   "cell_type": "code",
   "execution_count": 66,
   "metadata": {},
   "outputs": [],
   "source": [
    "up_down_phosphosites = {}\n",
    "for patient in tqdm(zscored_phospho.columns):\n",
    "    up_down_phosphosites[patient] = {}\n",
    "    down_rows = zscored_phospho[patient][(zscored_phospho[patient] < -1.96)].sort_values(ascending=True)[:500]\n",
    "    up_rows = zscored_phospho[patient][(zscored_phospho[patient] > 1.96)].sort_values(ascending=False)[:500]\n",
    "    \n",
    "    down_phopshosites = list(set(down_rows.index.map(lambda g: lookup(g.split('.')[0]) if lookup(g.split('.')[0]) else g.split('.')[0])))\n",
    "    up_phopshosites = list(set(up_rows.index.map(lambda g: lookup(g.split('.')[0]) if lookup(g.split('.')[0]) else g.split('.')[0])))\n",
    "\n",
    "    up_kinases = get_kea3_results(up_phopshosites, f'{patient}_up_phosphosites')\n",
    "    down_kinases = get_kea3_results(down_phopshosites, f'{patient}_down_phosphosites')\n",
    "    up_down_phosphosites[patient]['up'] = up_kinases\n",
    "    up_down_phosphosites[patient]['down'] = down_kinases"
   ]
  },
  {
   "cell_type": "code",
   "execution_count": 58,
   "metadata": {},
   "outputs": [],
   "source": [
    "ids = list(up_down_genes.keys())\n",
    "\n",
    "n_TFs = 20\n",
    "\n",
    "up_TFs = {}\n",
    "up_intermediates = {}\n",
    "with tqdm(total=len(ids)) as pbar:\n",
    "    pbar.set_description(\"Augmenting TFs from up-genes...\")\n",
    "    for id in ids:\n",
    "        up_TFs[id] = chea_up[id].sort_values(ascending=False).index[:n_TFs].to_list()\n",
    "        up_intermediates[id] = geneshot_set_augment(gene_list=up_TFs[id])\n",
    "        pbar.update(1)\n",
    "up_TFs = pd.DataFrame(up_TFs)\n",
    "up_intermediates = pd.DataFrame(up_intermediates)\n",
    "up_TFs.to_csv(f\"results/up_TFs.csv\", index=False)\n",
    "up_intermediates.to_csv(f\"results/up_intermediates.csv\", index=False)\n",
    "\n",
    "dn_TFs = {}\n",
    "dn_intermediates = {}\n",
    "with tqdm(total=len(ids)) as pbar:\n",
    "    pbar.set_description(\"Augmenting TFs from down-genes...\")\n",
    "    for id in ids:\n",
    "        dn_TFs[id] = chea_dn[id].sort_values(ascending=False).index[:n_TFs].to_list()\n",
    "        dn_intermediates[id] = geneshot_set_augment(gene_list=dn_TFs[id])\n",
    "        pbar.update(1)\n",
    "dn_TFs = pd.DataFrame(dn_TFs)\n",
    "dn_intermediates = pd.DataFrame(dn_intermediates)\n",
    "dn_TFs.to_csv(f\"results/dn_TFs.csv\", index=False)\n",
    "dn_intermediates.to_csv(f\"results/dn_intermediates.csv\", index=False)"
   ]
  },
  {
   "cell_type": "code",
   "execution_count": null,
   "metadata": {},
   "outputs": [],
   "source": [
    "# Kinases enriched in both X2K and phospho- pipelines\n",
    "rank_threshold = 30\n",
    "\n",
    "rec_kinases = {}\n",
    "for id in ids:\n",
    "    up = x2k_up[id].sort_values(ascending=False).index.to_list()\n",
    "    up_phospho = kea_up[id].sort_values(ascending=False).index.to_list()\n",
    "    rec_kinases[id] = list(set(up[:rank_threshold]) & set(up_phospho[:rank_threshold]))\n",
    "pd.DataFrame(rec_kinases).to_csv(f\"results/recovered_up_phospho_up_genes.csv\", index=False)\n",
    "\n",
    "rec_kinases = {}\n",
    "for id in ids:\n",
    "    dn = x2k_dn[id].sort_values(ascending=False).index.to_list()\n",
    "    dn_phospho = kea_dn[id].sort_values(ascending=False).index.to_list()\n",
    "    rec_kinases[id] = list(set(dn[:rank_threshold]) & set(dn_phospho[:rank_threshold]))\n",
    "pd.DataFrame(rec_kinases).to_csv(f\"results/recovered_dn_phospho_dn_genes.csv\", index=False)\n",
    "\n",
    "rec_kinases = {}\n",
    "for id in ids:\n",
    "    dn = x2k_dn[id].sort_values(ascending=False).index.to_list()\n",
    "    up_phospho = kea_up[id].sort_values(ascending=False).index.to_list()\n",
    "    rec_kinases[id] = list(set(dn[:rank_threshold]) & set(up_phospho[:rank_threshold]))\n",
    "pd.DataFrame(rec_kinases).to_csv(f\"results/recovered_up_phospho_dn_genes.csv\", index=False)\n",
    "\n",
    "rec_kinases = {}\n",
    "for id in ids:\n",
    "    up = x2k_up[id].sort_values(ascending=False).index.to_list()\n",
    "    dn_phospho = kea_dn[id].sort_values(ascending=False).index.to_list()\n",
    "    rec_kinases[id] = list(set(up[:rank_threshold]) & set(dn_phospho[:rank_threshold]))\n",
    "pd.DataFrame(rec_kinases).to_csv(f\"results/recovered_dn_phospho_up_genes.csv\", index=False)"
   ]
  }
 ],
 "metadata": {
  "kernelspec": {
   "display_name": "venv",
   "language": "python",
   "name": "python3"
  },
  "language_info": {
   "codemirror_mode": {
    "name": "ipython",
    "version": 3
   },
   "file_extension": ".py",
   "mimetype": "text/x-python",
   "name": "python",
   "nbconvert_exporter": "python",
   "pygments_lexer": "ipython3",
   "version": "3.10.13"
  }
 },
 "nbformat": 4,
 "nbformat_minor": 2
}
